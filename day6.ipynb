{
 "cells": [
  {
   "cell_type": "code",
   "execution_count": 8,
   "id": "4011a87d",
   "metadata": {},
   "outputs": [],
   "source": [
    "## USER DEFINED FUNCTIONS\n",
    "## code re-usability\n",
    "## code more organized and readable\n",
    "## unique to a particular code\n",
    "## one function can be defined inside another function"
   ]
  },
  {
   "cell_type": "code",
   "execution_count": 9,
   "id": "768caded",
   "metadata": {},
   "outputs": [],
   "source": [
    "## FUNCTION WITHOUT PARAMETER OR ARGUMENT"
   ]
  },
  {
   "cell_type": "code",
   "execution_count": 10,
   "id": "230dcbdf",
   "metadata": {},
   "outputs": [],
   "source": [
    "def class_project():\n",
    "    return 'WELCOME TO PYTHON CLASS PROJECT'"
   ]
  },
  {
   "cell_type": "code",
   "execution_count": 11,
   "id": "a5838a36",
   "metadata": {},
   "outputs": [
    {
     "data": {
      "text/plain": [
       "'WELCOME TO PYTHON CLASS PROJECT'"
      ]
     },
     "execution_count": 11,
     "metadata": {},
     "output_type": "execute_result"
    }
   ],
   "source": [
    "class_project()"
   ]
  },
  {
   "cell_type": "code",
   "execution_count": 12,
   "id": "a75ec167",
   "metadata": {},
   "outputs": [],
   "source": [
    "## FUNCTION WITH SINGLE PARAMETER OR ARGUMENT"
   ]
  },
  {
   "cell_type": "code",
   "execution_count": 22,
   "id": "005fd299",
   "metadata": {},
   "outputs": [
    {
     "name": "stdout",
     "output_type": "stream",
     "text": [
      "WELCOME TO PYTHON CLASS PROJECT Meshack Adese\n"
     ]
    }
   ],
   "source": [
    "def Class_project(name):\n",
    "    print(f'WELCOME TO PYTHON CLASS PROJECT {name}')\n",
    "\n",
    "Class_project('Meshack Adese')"
   ]
  },
  {
   "cell_type": "code",
   "execution_count": 23,
   "id": "5845ffdd",
   "metadata": {},
   "outputs": [
    {
     "name": "stdout",
     "output_type": "stream",
     "text": [
      "-----------ITEM SHIPMENT DESCRIPTION-------------\n",
      "ITEM NAME:Tecno Camon CX\n",
      "ITEM CATEGORY:Mobile Phones\n",
      "ITEM CONDITION:Non-Fragile\n",
      "ITEM QUANTITY:5\n",
      "ITEM PRICE:#250000\n",
      "ITEM WEIGHT:10\n",
      "ITEM DESTINATION:Lagos\n",
      "\n",
      "The Shipping Price for the above item is #5000\n"
     ]
    }
   ],
   "source": [
    "def shipment(location, itemname, itemcondition, itemcategory, itemquantity, itemprice, itemweight, defaultweight):\n",
    "    print(f'''-----------ITEM SHIPMENT DESCRIPTION-------------\n",
    "ITEM NAME:{itemname}\n",
    "ITEM CATEGORY:{itemcategory}\n",
    "ITEM CONDITION:{itemcondition}\n",
    "ITEM QUANTITY:{itemquantity}\n",
    "ITEM PRICE:#{itemprice * itemquantity}\n",
    "ITEM WEIGHT:{itemweight}\n",
    "ITEM DESTINATION:{location}\n",
    "''')\n",
    "    if itemcondition == 'Non-Fragile' and itemweight <= defaultweight:\n",
    "        print(f'The Shipping Price for the above item is #{itemquantity * itemweight * 100}')\n",
    "    elif itemcondition == 'Fragile' and itemweight <= defaultweight:\n",
    "        print(f'The Shipping Price for the above item is #{itemquantity * itemweight * 250}')\n",
    "    elif itemcondition == 'Fragile' and itemweight > defaultweight:\n",
    "        print(f'The Shipping Price for the above item is #{itemquantity * itemweight * 500}')\n",
    "    elif itemcondition == 'Non-Fragile' and itemweight > defaultweight:\n",
    "        print(f'The Shipping Price for the above item is #{itemquantity * itemweight * 300}')\n",
    "shipment('Lagos', 'Tecno Camon CX', 'Non-Fragile', 'Mobile Phones', 5,50000,10,25)"
   ]
  },
  {
   "cell_type": "code",
   "execution_count": 5,
   "id": "9c54c4d4",
   "metadata": {},
   "outputs": [
    {
     "name": "stdout",
     "output_type": "stream",
     "text": [
      "-----------ITEM SHIPMENT DESCRIPTION-------------\n",
      "ITEM NAME:Tecno Camon CX\n",
      "ITEM CATEGORY:Mobile Phones\n",
      "ITEM CONDITION:Fragile\n",
      "ITEM QUANTITY:5\n",
      "ITEM PRICE:#275000\n",
      "ITEM WEIGHT:15\n",
      "ITEM DESTINATION:Lagos\n",
      "\n",
      "The Shipping Price for the above item is #18750\n"
     ]
    }
   ],
   "source": [
    "def shipment(location, itemname, itemcondition, itemcategory, itemquantity, itemprice=55000, itemweight=15, defaultweight=50):\n",
    "    print(f'''-----------ITEM SHIPMENT DESCRIPTION-------------\n",
    "ITEM NAME:{itemname}\n",
    "ITEM CATEGORY:{itemcategory}\n",
    "ITEM CONDITION:{itemcondition}\n",
    "ITEM QUANTITY:{itemquantity}\n",
    "ITEM PRICE:#{itemprice * itemquantity}\n",
    "ITEM WEIGHT:{itemweight}\n",
    "ITEM DESTINATION:{location}\n",
    "''')\n",
    "    if itemcondition == 'Non-Fragile' and itemweight <= defaultweight:\n",
    "        print(f'The Shipping Price for the above item is #{itemquantity * itemweight * 100}')\n",
    "    elif itemcondition == 'Fragile' and itemweight <= defaultweight:\n",
    "        print(f'The Shipping Price for the above item is #{itemquantity * itemweight * 250}')\n",
    "    elif itemcondition == 'Fragile' and itemweight > defaultweight:\n",
    "        print(f'The Shipping Price for the above item is #{itemquantity * itemweight * 500}')\n",
    "    elif itemcondition == 'Non-Fragile' and itemweight > defaultweight:\n",
    "        print(f'The Shipping Price for the above item is #{itemquantity * itemweight * 300}')\n",
    "shipment('Lagos', 'Tecno Camon CX', 'Fragile', 'Mobile Phones', 5)"
   ]
  },
  {
   "cell_type": "code",
   "execution_count": 6,
   "id": "d873ffa0",
   "metadata": {},
   "outputs": [
    {
     "name": "stdout",
     "output_type": "stream",
     "text": [
      "-----------ITEM SHIPMENT DESCRIPTION-------------\n",
      "ITEM NAME:Tecno Camon CX\n",
      "ITEM CATEGORY:Mobile Phones\n",
      "ITEM CONDITION:Fragile\n",
      "ITEM QUANTITY:5\n",
      "ITEM PRICE:#275000\n",
      "ITEM WEIGHT:15\n",
      "ITEM DESTINATION:Lagos\n",
      "\n",
      "The Shipping Price for the above item is #18750\n"
     ]
    }
   ],
   "source": [
    "def shipment(location, itemname, itemcondition, itemcategory, itemquantity, itemprice, itemweight=8, defaultweight=15):\n",
    "    print(f'''-----------ITEM SHIPMENT DESCRIPTION-------------\n",
    "ITEM NAME:{itemname}\n",
    "ITEM CATEGORY:{itemcategory}\n",
    "ITEM CONDITION:{itemcondition}\n",
    "ITEM QUANTITY:{itemquantity}\n",
    "ITEM PRICE:#{itemprice * itemquantity}\n",
    "ITEM WEIGHT:{itemweight}\n",
    "ITEM DESTINATION:{location}\n",
    "''')\n",
    "    if itemcondition == 'Non-Fragile' and itemweight <= defaultweight:\n",
    "        print(f'The Shipping Price for the above item is #{itemquantity * itemweight * 100}')\n",
    "    elif itemcondition == 'Fragile' and itemweight <= defaultweight:\n",
    "        print(f'The Shipping Price for the above item is #{itemquantity * itemweight * 250}')\n",
    "    elif itemcondition == 'Fragile' and itemweight > defaultweight:\n",
    "        print(f'The Shipping Price for the above item is #{itemquantity * itemweight * 500}')\n",
    "    elif itemcondition == 'Non-Fragile' and itemweight > defaultweight:\n",
    "        print(f'The Shipping Price for the above item is #{itemquantity * itemweight * 300}')\n",
    "shipment('Lagos', 'Tecno Camon CX', 'Fragile', 'Mobile Phones', 5,55000,15,50)"
   ]
  },
  {
   "cell_type": "code",
   "execution_count": 19,
   "id": "127c57e7",
   "metadata": {},
   "outputs": [],
   "source": [
    "## if the value for the items in the function are given, you may not neccesarily define them in the return function.\n",
    "## if the value of the item is defined in the return function after first defining them in the function, the operation will use \n",
    "## the value defined in the return function. that is, it overides the value defined in the main function."
   ]
  },
  {
   "cell_type": "code",
   "execution_count": 20,
   "id": "6b6c21c4",
   "metadata": {},
   "outputs": [
    {
     "name": "stdout",
     "output_type": "stream",
     "text": [
      "The name of My School Party is DAME\n"
     ]
    }
   ],
   "source": [
    "def SCHOOL_PARTY(name):\n",
    "    print(f'The name of My School Party is {name}')\n",
    "SCHOOL_PARTY('DAME')"
   ]
  },
  {
   "cell_type": "code",
   "execution_count": null,
   "id": "e21619cd",
   "metadata": {},
   "outputs": [],
   "source": []
  }
 ],
 "metadata": {
  "kernelspec": {
   "display_name": "Python 3 (ipykernel)",
   "language": "python",
   "name": "python3"
  },
  "language_info": {
   "codemirror_mode": {
    "name": "ipython",
    "version": 3
   },
   "file_extension": ".py",
   "mimetype": "text/x-python",
   "name": "python",
   "nbconvert_exporter": "python",
   "pygments_lexer": "ipython3",
   "version": "3.9.12"
  }
 },
 "nbformat": 4,
 "nbformat_minor": 5
}
