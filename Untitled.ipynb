{
 "cells": [
  {
   "cell_type": "code",
   "execution_count": 1,
   "id": "22d93268",
   "metadata": {},
   "outputs": [],
   "source": [
    "## QUESTION 1\n",
    "## A company decided to give bonus of 5% to employee if\n",
    "## he/her years of service is more than 5 years.\n",
    "## ask user for their salary and year of service and print the net bonus amount"
   ]
  },
  {
   "cell_type": "code",
   "execution_count": 5,
   "id": "abe364e1",
   "metadata": {},
   "outputs": [
    {
     "name": "stdout",
     "output_type": "stream",
     "text": [
      "Please enter the Employee Salary:78\n",
      "Please enter the employee years of service:6\n",
      "The Empolyee Net Bonus is 3.9000000000000004\n",
      "The Emplyee Net Salary is 81.9\n"
     ]
    }
   ],
   "source": [
    "salary = float(input('Please enter the Employee Salary:'))\n",
    "yos = int(input('Please enter the employee years of service:'))\n",
    "bonus = ((salary/100)* 5)\n",
    "if yos > 5:\n",
    "    print(f'The Empolyee Net Bonus is {bonus}')\n",
    "    print(f'The Emplyee Net Salary is {salary + bonus}')"
   ]
  },
  {
   "cell_type": "code",
   "execution_count": 57,
   "id": "09e07748",
   "metadata": {},
   "outputs": [
    {
     "name": "stdout",
     "output_type": "stream",
     "text": [
      "Please enter the Employee Salary:680000\n",
      "Please enter the employee years of service:6\n",
      "The Empolyee Net Bonus is 34000.0\n"
     ]
    }
   ],
   "source": [
    "salary = float(input('Please enter the Employee Salary:'))\n",
    "yos = int(input('Please enter the employee years of service:'))\n",
    "bonus = ((salary/100)* 5)\n",
    "if yos > 5:\n",
    "    print(f'The Empolyee Net Bonus is {bonus}')"
   ]
  },
  {
   "cell_type": "code",
   "execution_count": 12,
   "id": "2d6a235a",
   "metadata": {},
   "outputs": [
    {
     "name": "stdout",
     "output_type": "stream",
     "text": [
      "Please enter the Employee Salary:2000000\n",
      "Please enter the employee years of service:4\n"
     ]
    }
   ],
   "source": [
    "salary = float(input('Please enter the Employee Salary:'))\n",
    "yos = int(input('Please enter the employee years of service:'))\n",
    "bonus = ((salary/100)* 5)\n",
    "if yos > 5:\n",
    "    print(f'The Empolyee Net Bonus is {bonus}')"
   ]
  },
  {
   "cell_type": "code",
   "execution_count": 13,
   "id": "02a1e2cc",
   "metadata": {},
   "outputs": [
    {
     "name": "stdout",
     "output_type": "stream",
     "text": [
      "Please enter the Employee Salary:80666\n",
      "Please enter the employee years of service:2\n",
      "The Employee is not eligible for any bonus\n"
     ]
    }
   ],
   "source": [
    "salary = float(input('Please enter the Employee Salary:'))\n",
    "yos = int(input('Please enter the employee years of service:'))\n",
    "bonus = ((salary/100)* 5)\n",
    "if yos > 5:\n",
    "    print(f'The Empolyee Net Bonus is {bonus}')\n",
    "else:\n",
    "    print('The Employee is not eligible for any bonus')"
   ]
  },
  {
   "cell_type": "code",
   "execution_count": 14,
   "id": "16bd20c8",
   "metadata": {},
   "outputs": [],
   "source": [
    "##  Take two int values and print greatest among them"
   ]
  },
  {
   "cell_type": "code",
   "execution_count": 16,
   "id": "07229a00",
   "metadata": {},
   "outputs": [
    {
     "name": "stdout",
     "output_type": "stream",
     "text": [
      "please enter the value of the first integer:20\n",
      "please enter the value of the second integer:15\n",
      "int1 is greater than int2\n"
     ]
    }
   ],
   "source": [
    "int1 = int(input('please enter the value of the first integer:'))\n",
    "int2 = int(input('please enter the value of the second integer:'))\n",
    "if int1 > int2:\n",
    "    print('int1 is greater than int2')\n",
    "else:\n",
    "    print('int2 is greater than int1')"
   ]
  },
  {
   "cell_type": "code",
   "execution_count": 17,
   "id": "4b3667da",
   "metadata": {},
   "outputs": [
    {
     "name": "stdout",
     "output_type": "stream",
     "text": [
      "please enter the value of the first integer:50\n",
      "please enter the value of the second integer:59\n",
      "int2 is greater than int1\n"
     ]
    }
   ],
   "source": [
    "int1 = int(input('please enter the value of the first integer:'))\n",
    "int2 = int(input('please enter the value of the second integer:'))\n",
    "if int1 > int2:\n",
    "    print('int1 is greater than int2')\n",
    "else:\n",
    "    print('int2 is greater than int1')"
   ]
  },
  {
   "cell_type": "code",
   "execution_count": 18,
   "id": "8c22bf15",
   "metadata": {},
   "outputs": [],
   "source": [
    "## Take the input of age of 3 people by user and determine oldest and youngest among them"
   ]
  },
  {
   "cell_type": "code",
   "execution_count": 1,
   "id": "a4a957d9",
   "metadata": {},
   "outputs": [
    {
     "name": "stdout",
     "output_type": "stream",
     "text": [
      "Please enter the first person age:24\n",
      "Please enter the second person age:37\n",
      "Please enter the third person age:56\n",
      "age3 is oldest and age1 is youngest\n"
     ]
    }
   ],
   "source": [
    "age1 = int(input('Please enter the first person age:'))\n",
    "age2 = int(input('Please enter the second person age:'))\n",
    "age3 = int(input('Please enter the third person age:'))\n",
    "if ((age1 > age2 and age1 > age3) and (age2 < age1 and age2 < age3)):\n",
    "    print('age1 is oldest and age2 is youngest')\n",
    "elif ((age2 > age1 and age2 > age3) and (age3 < age2 and age3 <age1)):\n",
    "    print('age2 is oldest and age3 is youngest')\n",
    "else:\n",
    "    print('age3 is oldest and age1 is youngest')"
   ]
  },
  {
   "cell_type": "code",
   "execution_count": 23,
   "id": "e0abb787",
   "metadata": {},
   "outputs": [
    {
     "name": "stdout",
     "output_type": "stream",
     "text": [
      "Please enter the first person age:56\n",
      "Please enter the second person age:76\n",
      "Please enter the third person age:86\n",
      "age1 is youngest\n"
     ]
    }
   ],
   "source": [
    "age1 = int(input('Please enter the first person age:'))\n",
    "age2 = int(input('Please enter the second person age:'))\n",
    "age3 = int(input('Please enter the third person age:'))\n",
    "if age1 < age2 and age1 < age3:\n",
    "    print('age1 is youngest')\n",
    "elif age2 < age1 and age2 < age3:\n",
    "    print('age2 is youngest')\n",
    "else:\n",
    "    print('age3 is youngest')"
   ]
  },
  {
   "cell_type": "code",
   "execution_count": 24,
   "id": "f3ca1179",
   "metadata": {},
   "outputs": [],
   "source": [
    "## A student will not be allowed to sit in exam if his/her attendance is less than 75%\n",
    "## take the following input from user\n",
    "## Number of classes held\n",
    "## number of classes attended\n",
    "## And print\n",
    "## percentage of classes attended\n",
    "## is the student allowed to sit in exam or not"
   ]
  },
  {
   "cell_type": "code",
   "execution_count": 33,
   "id": "9148d89d",
   "metadata": {},
   "outputs": [
    {
     "name": "stdout",
     "output_type": "stream",
     "text": [
      "Please enter number of classes held:50\n",
      "Please enter number of classes attended:37\n",
      "74.0\n",
      "Stdent is not allowed to sit in exam\n"
     ]
    }
   ],
   "source": [
    "num1 = int(input('Please enter number of classes held:'))\n",
    "num2 = int(input('Please enter number of classes attended:'))\n",
    "# let num3 represent the percentage of class attended\n",
    "num3 = ((num2/num1)* 100)\n",
    "print(num3)\n",
    "if num3 > 75:\n",
    "    print('Student is allowed to sit in exam')\n",
    "else:\n",
    "    print('Stdent is not allowed to sit in exam')"
   ]
  },
  {
   "cell_type": "code",
   "execution_count": 34,
   "id": "cae99c09",
   "metadata": {},
   "outputs": [],
   "source": [
    "## Ask user to enter age, sex (M or F), Marital Status (Y or N) and \n",
    "## using the following rules, print their place of service\n",
    "## if employee is female, then she will work only in urban areas\n",
    "## if employee is male and age is in between 20 to 40, then he may work anywhere\n",
    "## if employee is male and age between 40 to 60, then he will work in urban areas only\n",
    "## and any other input of age should print ''ERROR''"
   ]
  },
  {
   "cell_type": "code",
   "execution_count": 74,
   "id": "4ca60545",
   "metadata": {},
   "outputs": [
    {
     "ename": "SyntaxError",
     "evalue": "invalid syntax (36514332.py, line 7)",
     "output_type": "error",
     "traceback": [
      "\u001b[1;36m  Input \u001b[1;32mIn [74]\u001b[1;36m\u001b[0m\n\u001b[1;33m    if (sex) is M\u001b[0m\n\u001b[1;37m                 ^\u001b[0m\n\u001b[1;31mSyntaxError\u001b[0m\u001b[1;31m:\u001b[0m invalid syntax\n"
     ]
    }
   ],
   "source": [
    "age = int(input('Please enter the value of age:'))\n",
    "sex = input('Please enter the nature of sex:')\n",
    "ms = input('Please enter the Marital Status:')\n",
    "print(age)\n",
    "print(sex)\n",
    "print(ms)\n",
    "if (sex) is M\n",
    "    print('cool')k,"
   ]
  },
  {
   "cell_type": "code",
   "execution_count": 72,
   "id": "94ea3321",
   "metadata": {},
   "outputs": [
    {
     "name": "stdout",
     "output_type": "stream",
     "text": [
      "Employee may work only in urban areas\n"
     ]
    }
   ],
   "source": [
    "if sex is (sex):\n",
    "    print('Employee may work only in urban areas')\n",
    "else:\n",
    "    print('empl')"
   ]
  },
  {
   "cell_type": "code",
   "execution_count": 56,
   "id": "4f710e90",
   "metadata": {},
   "outputs": [
    {
     "name": "stdout",
     "output_type": "stream",
     "text": [
      "Please enter your sex:f\n",
      "f\n"
     ]
    }
   ],
   "source": [
    "sex = input('Please enter your sex:')\n",
    "print(sex)"
   ]
  },
  {
   "cell_type": "code",
   "execution_count": 60,
   "id": "31404b41",
   "metadata": {},
   "outputs": [
    {
     "name": "stdout",
     "output_type": "stream",
     "text": [
      "cool\n"
     ]
    }
   ],
   "source": [
    "if sex is (sex):\n",
    "    print('cool')"
   ]
  },
  {
   "cell_type": "code",
   "execution_count": null,
   "id": "b7af43d3",
   "metadata": {},
   "outputs": [],
   "source": []
  }
 ],
 "metadata": {
  "kernelspec": {
   "display_name": "Python 3 (ipykernel)",
   "language": "python",
   "name": "python3"
  },
  "language_info": {
   "codemirror_mode": {
    "name": "ipython",
    "version": 3
   },
   "file_extension": ".py",
   "mimetype": "text/x-python",
   "name": "python",
   "nbconvert_exporter": "python",
   "pygments_lexer": "ipython3",
   "version": "3.9.12"
  }
 },
 "nbformat": 4,
 "nbformat_minor": 5
}
