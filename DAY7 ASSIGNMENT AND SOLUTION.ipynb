{
 "cells": [
  {
   "cell_type": "code",
   "execution_count": 4,
   "id": "f08875f9",
   "metadata": {},
   "outputs": [
    {
     "name": "stdout",
     "output_type": "stream",
     "text": [
      "Enter y as yes to prtform any operation and n as no to quit:y\n",
      "Enter operation option [deposit, withdraw, transfer and getbalance]:deposit\n",
      "Enter the amount to be deposited:231233\n",
      "Transaction sucessful. 231233.0 was credited to your account and your balance is 231233.0\n",
      "Enter y as yes to perform any operation and n as no to quit:n\n"
     ]
    }
   ],
   "source": [
    "class banksystem:\n",
    "    def __init__(self):\n",
    "        self.balance = 0\n",
    "        \n",
    "    def deposit(self):\n",
    "        amount = float(input('Enter the amount to be deposited:'))\n",
    "        self.balance = self.balance + amount\n",
    "        print(f'Transaction sucessful. {amount} was credited to your account and your balance is {self.balance}')\n",
    "    def withdraw(self):   \n",
    "        amount = float(input('Enter the amount to be withdrew:'))\n",
    "        self.balance = self.balance - amount\n",
    "        print(f'Transaction sucessful. {amount} was debited from your account and your balance is {self.balance}')\n",
    "    def transfer(self):   \n",
    "        amount = float(input('Enter the amount to be transfered:'))\n",
    "        destination = input('Enter the destination account:')\n",
    "        self.balance = self.balance - amount\n",
    "        print(f'Transaction sucessful. {amount} was transferred from your account and your balance is {self.balance}')  \n",
    "    def getbalance(self):\n",
    "        print(f'Available Balance is {self.balance}')\n",
    "customer = banksystem()\n",
    "counter = 1\n",
    "operations = input('Enter y as yes to prtform any operation and n as no to quit:')\n",
    "while operations == 'y':\n",
    "    option = input('Enter operation option [deposit, withdraw, transfer and getbalance]:')\n",
    "    if option == 'deposit':\n",
    "        customer.deposit()\n",
    "    elif option == 'withdraw':\n",
    "        customer.withdraw\n",
    "    elif option == 'transfer':\n",
    "        customer.transfer() \n",
    "    elif option == 'getbalance':\n",
    "        customer.getbalance() \n",
    "    operations = input('Enter y as yes to perform any operation and n as no to quit:') \n",
    "    counter = counter + 1\n",
    "        "
   ]
  },
  {
   "cell_type": "code",
   "execution_count": null,
   "id": "f881bd4a",
   "metadata": {},
   "outputs": [],
   "source": []
  },
  {
   "cell_type": "code",
   "execution_count": null,
   "id": "55d8b4d8",
   "metadata": {},
   "outputs": [],
   "source": []
  }
 ],
 "metadata": {
  "kernelspec": {
   "display_name": "Python 3 (ipykernel)",
   "language": "python",
   "name": "python3"
  },
  "language_info": {
   "codemirror_mode": {
    "name": "ipython",
    "version": 3
   },
   "file_extension": ".py",
   "mimetype": "text/x-python",
   "name": "python",
   "nbconvert_exporter": "python",
   "pygments_lexer": "ipython3",
   "version": "3.9.12"
  }
 },
 "nbformat": 4,
 "nbformat_minor": 5
}
