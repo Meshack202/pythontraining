{
 "cells": [
  {
   "cell_type": "markdown",
   "id": "439ee3a9",
   "metadata": {},
   "source": [
    "# CLASS AND OBJECT"
   ]
  },
  {
   "cell_type": "code",
   "execution_count": 5,
   "id": "9813da45",
   "metadata": {},
   "outputs": [
    {
     "data": {
      "text/plain": [
       "'Eagle'"
      ]
     },
     "execution_count": 5,
     "metadata": {},
     "output_type": "execute_result"
    }
   ],
   "source": [
    "class pet:\n",
    "    name = 'Eagle'\n",
    "    family = 'Birds'\n",
    "ob = pet()    \n",
    "ob.name"
   ]
  },
  {
   "cell_type": "code",
   "execution_count": 4,
   "id": "28323b47",
   "metadata": {},
   "outputs": [
    {
     "data": {
      "text/plain": [
       "'Biords'"
      ]
     },
     "execution_count": 4,
     "metadata": {},
     "output_type": "execute_result"
    }
   ],
   "source": [
    "ob.family"
   ]
  },
  {
   "cell_type": "code",
   "execution_count": 10,
   "id": "be9d93ae",
   "metadata": {},
   "outputs": [],
   "source": [
    "class pet2:\n",
    "    name = 'Tiger'\n",
    "    family = 'CAT'\n",
    "    \n",
    "    def details(self):\n",
    "        print(f'''NAME:{self.name}\n",
    "FAMILY : {self.family}        \n",
    "''')\n",
    "cat1 = pet2()        "
   ]
  },
  {
   "cell_type": "code",
   "execution_count": 11,
   "id": "f1f10d6d",
   "metadata": {},
   "outputs": [
    {
     "name": "stdout",
     "output_type": "stream",
     "text": [
      "NAME:Tiger\n",
      "FAMILY : CAT        \n",
      "\n"
     ]
    }
   ],
   "source": [
    "cat1.details()"
   ]
  },
  {
   "cell_type": "markdown",
   "id": "3f894889",
   "metadata": {},
   "source": [
    "Using class and Object, write a simple program that will be based on balanvce performed, perform the following operations, depost, withdraw and transfer "
   ]
  },
  {
   "cell_type": "code",
   "execution_count": 13,
   "id": "b6654d93",
   "metadata": {},
   "outputs": [],
   "source": [
    "class banksystem:\n",
    "    def __init__(self):\n",
    "        self.balance = 0\n",
    "        \n",
    "    def deposit(self):\n",
    "        amount = float(input('Enter the amount to be deposited'))\n",
    "        self.balance = self.balance + amount\n",
    "        print(f'Transaction sucessful and available balance is {self.balance}')\n",
    "    def withdraw(self):   \n",
    "        amount = float(input('Enter the amount to be withdrew'))\n",
    "        self.balance = self.balance - amount\n",
    "        print(f'Transaction sucessful and available balance is {self.balance}')\n",
    "    def transfer(self):   \n",
    "        amount = float(input('Enter the amount to be transfered'))\n",
    "        destination = input('Enter the destination account:')\n",
    "        self.balance = self.balance - amount\n",
    "        print(f'Transaction sucessful and available balance is {self.balance}')   \n",
    "        \n",
    "customer1 = banksystem()        "
   ]
  },
  {
   "cell_type": "code",
   "execution_count": 15,
   "id": "1e0cbe14",
   "metadata": {},
   "outputs": [
    {
     "name": "stdout",
     "output_type": "stream",
     "text": [
      "Enter the amount to be deposited55000.500\n",
      "Transaction sucessful and available balance is 55000.5\n"
     ]
    }
   ],
   "source": [
    "customer1.deposit()"
   ]
  },
  {
   "cell_type": "code",
   "execution_count": 17,
   "id": "abe2293a",
   "metadata": {},
   "outputs": [
    {
     "name": "stdout",
     "output_type": "stream",
     "text": [
      "Enter the amount to be withdrew20000\n",
      "Transaction sucessful and available balance is 15000.5\n"
     ]
    }
   ],
   "source": [
    "customer1.withdraw()"
   ]
  },
  {
   "cell_type": "markdown",
   "id": "102ff873",
   "metadata": {},
   "source": [
    "customer1.transfer()"
   ]
  },
  {
   "cell_type": "code",
   "execution_count": 18,
   "id": "e5ff2c52",
   "metadata": {},
   "outputs": [
    {
     "name": "stdout",
     "output_type": "stream",
     "text": [
      "Enter the amount to be transfered15000\n",
      "Enter the destination account:24567897879\n",
      "Transaction sucessful and available balance is 0.5\n"
     ]
    }
   ],
   "source": [
    "customer1.transfer()"
   ]
  },
  {
   "cell_type": "code",
   "execution_count": 19,
   "id": "c6200aec",
   "metadata": {},
   "outputs": [
    {
     "name": "stdout",
     "output_type": "stream",
     "text": [
      "Enter y as yes to prtform any operation and n as no to quit:y\n",
      "Entetr operation option [deposit, withdraw, transfer and getbalance]:deposit\n",
      "Enter the amount to be deposited100000\n",
      "Transaction sucessful\n",
      "Enter y as tes to perform any operation and n as no to quit:y\n",
      "Entetr operation option [deposit, withdraw, transfer and getbalance]:withdraw\n",
      "Enter the amount to be withdrew40000\n",
      "Transaction sucessful\n",
      "Enter y as tes to perform any operation and n as no to quit:y\n",
      "Entetr operation option [deposit, withdraw, transfer and getbalance]:transfer\n",
      "Enter the amount to be transfered20000\n",
      "Enter the destination account:34276544295\n",
      "Transaction sucessful\n",
      "Enter y as tes to perform any operation and n as no to quit:y\n",
      "Entetr operation option [deposit, withdraw, transfer and getbalance]:getbalance\n",
      "Available Balance is 40000.0\n",
      "Enter y as tes to perform any operation and n as no to quit:n\n"
     ]
    }
   ],
   "source": [
    "class banksystem2:\n",
    "    def __init__(self):\n",
    "        self.balance = 0\n",
    "        \n",
    "    def deposit(self):\n",
    "        amount = float(input('Enter the amount to be deposited'))\n",
    "        self.balance = self.balance + amount\n",
    "        print(f'Transaction sucessful')\n",
    "    def withdraw(self):   \n",
    "        amount = float(input('Enter the amount to be withdrew'))\n",
    "        self.balance = self.balance - amount\n",
    "        print(f'Transaction sucessful')\n",
    "    def transfer(self):   \n",
    "        amount = float(input('Enter the amount to be transfered'))\n",
    "        destination = input('Enter the destination account:')\n",
    "        self.balance = self.balance - amount\n",
    "        print(f'Transaction sucessful')  \n",
    "    def getbalance(self):\n",
    "        print(f'Available Balance is {self.balance}')\n",
    "customer = banksystem2()\n",
    "counter = 1\n",
    "operations = input('Enter y as yes to prtform any operation and n as no to quit:')\n",
    "while operations == 'y':\n",
    "    option = input('Entetr operation option [deposit, withdraw, transfer and getbalance]:')\n",
    "    if option == 'deposit':\n",
    "        customer.deposit()\n",
    "    elif option == 'withdraw':\n",
    "        customer.withdraw()\n",
    "    elif option == 'transfer':\n",
    "        customer.transfer() \n",
    "    elif option == 'getbalance':\n",
    "        customer.getbalance() \n",
    "    operations = input('Enter y as tes to perform any operation and n as no to quit:') \n",
    "    counter = counter + 1\n",
    "        \n",
    "\n",
    "        "
   ]
  },
  {
   "cell_type": "code",
   "execution_count": 2,
   "id": "ec9158b1",
   "metadata": {},
   "outputs": [],
   "source": [
    "class game:\n",
    "    def __init__(self,brand,model,color,speed):\n",
    "        self.brand = brand\n",
    "        self.model = model\n",
    "        self.color = color\n",
    "        self.speed = speed\n",
    "    def start(self):\n",
    "        print(f'{self.brand} {self.model} has started')\n",
    "              \n",
    "    def gear(self,option):\n",
    "        if option == 1:\n",
    "            print('Gear changed from 1 to 3')  \n",
    "        elif option ==2:\n",
    "            print('Gear changed from 4 to 5 and reverse') \n",
    "        else:\n",
    "              print('invalisd option')\n",
    "    def stop(self):\n",
    "         print(f'{self.brand} {self.model} has started') \n",
    "               \n",
    "car1 = game('Audi','J5','Blue',250)               \n",
    "              \n",
    "              "
   ]
  },
  {
   "cell_type": "code",
   "execution_count": 3,
   "id": "9baa4ecf",
   "metadata": {},
   "outputs": [
    {
     "name": "stdout",
     "output_type": "stream",
     "text": [
      "Audi J5 has started\n"
     ]
    }
   ],
   "source": [
    "car1.start()"
   ]
  },
  {
   "cell_type": "code",
   "execution_count": 4,
   "id": "a9a2f6dd",
   "metadata": {},
   "outputs": [],
   "source": [
    "class game2(game):\n",
    "    def accelartion(option):\n",
    "        if option == 1:\n",
    "            print('Nitro Engaged')\n",
    "        else:\n",
    "            print('Nitro Disenghaged')\n",
    "car2 = game2('Toyota','GIG45','Yellow',350)            \n",
    "            "
   ]
  },
  {
   "cell_type": "code",
   "execution_count": 5,
   "id": "96c73815",
   "metadata": {},
   "outputs": [
    {
     "name": "stdout",
     "output_type": "stream",
     "text": [
      "Toyota GIG45 has started\n"
     ]
    }
   ],
   "source": [
    "car2.start()"
   ]
  },
  {
   "cell_type": "code",
   "execution_count": null,
   "id": "6e7f16b3",
   "metadata": {},
   "outputs": [],
   "source": []
  }
 ],
 "metadata": {
  "kernelspec": {
   "display_name": "Python 3 (ipykernel)",
   "language": "python",
   "name": "python3"
  },
  "language_info": {
   "codemirror_mode": {
    "name": "ipython",
    "version": 3
   },
   "file_extension": ".py",
   "mimetype": "text/x-python",
   "name": "python",
   "nbconvert_exporter": "python",
   "pygments_lexer": "ipython3",
   "version": "3.9.12"
  }
 },
 "nbformat": 4,
 "nbformat_minor": 5
}
