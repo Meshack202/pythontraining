{
 "cells": [
  {
   "cell_type": "code",
   "execution_count": 1,
   "id": "034e978b",
   "metadata": {},
   "outputs": [],
   "source": [
    "## QUESTION 1\n",
    "## A company decided to give bonus of 5% to employee if\n",
    "## he/her years of service is more than 5 years.\n",
    "## ask user for their salary and year of service and print the net bonus amount"
   ]
  },
  {
   "cell_type": "code",
   "execution_count": 3,
   "id": "7cc17f9f",
   "metadata": {},
   "outputs": [
    {
     "name": "stdout",
     "output_type": "stream",
     "text": [
      "Please enter the Employee Salary:56780\n",
      "Please enter the employee years of service:7\n",
      "The Empolyee Net Bonus is 2839.0\n",
      "The Employee Net Salary is 59619.0\n"
     ]
    }
   ],
   "source": [
    "salary = float(input('Please enter the Employee Salary:'))\n",
    "yos = int(input('Please enter the employee years of service:'))\n",
    "bonus = ((salary/100)* 5)\n",
    "if yos > 5:\n",
    "    print(f'The Empolyee Net Bonus is {bonus}')\n",
    "    print(f'The Employee Net Salary is {salary + bonus}')"
   ]
  },
  {
   "cell_type": "code",
   "execution_count": 4,
   "id": "d389eaf5",
   "metadata": {},
   "outputs": [],
   "source": [
    "## QUESTION 2\n",
    "##  Take two int values and print greatest among them"
   ]
  },
  {
   "cell_type": "code",
   "execution_count": 1,
   "id": "472a04f0",
   "metadata": {},
   "outputs": [
    {
     "name": "stdout",
     "output_type": "stream",
     "text": [
      "please enter the value of the first integer:90\n",
      "please enter the value of the second integer:89\n",
      "first integer is greater than second integer\n"
     ]
    }
   ],
   "source": [
    "int1 = int(input('please enter the value of the first integer:'))\n",
    "int2 = int(input('please enter the value of the second integer:'))\n",
    "if int1 > int2:\n",
    "    print('first integer is greater than second integer')\n",
    "else:\n",
    "    print('second integer is greater than first integer')"
   ]
  },
  {
   "cell_type": "code",
   "execution_count": 6,
   "id": "750e1f07",
   "metadata": {},
   "outputs": [],
   "source": [
    "## QUESTION 3\n",
    "## Take the input of age of 3 people by user and determine oldest and youngest among them"
   ]
  },
  {
   "cell_type": "code",
   "execution_count": 10,
   "id": "7293cd03",
   "metadata": {},
   "outputs": [
    {
     "name": "stdout",
     "output_type": "stream",
     "text": [
      "Please enter the first person age:12\n",
      "Please enter the second person age:11\n",
      "Please enter the third person age:14\n",
      "age3 is oldest and age2 is youngest\n"
     ]
    }
   ],
   "source": [
    "age1 = int(input('Please enter the first person age:'))\n",
    "age2 = int(input('Please enter the second person age:'))\n",
    "age3 = int(input('Please enter the third person age:'))\n",
    "if ((age1 > age2 and age1 > age3) and (age2 < age3)):\n",
    "    print('age1 is oldest and age2 is youngest')\n",
    "elif ((age1 > age2 and age1 > age3) and (age2 > age3)):\n",
    "    print('age1 is greatest and age3 is youngest')\n",
    "elif ((age2 > age1 and age2 > age3) and (age1 < age3)):\n",
    "    print('age2 is oldest and age1 is youngest')\n",
    "elif ((age2 > age1 and age2 > age3) and (age1 > age3)):\n",
    "    print('age2 is oldest and age3 is youngest')\n",
    "elif ((age3 > age2 and age3 > age1) and (age1 < age2)):\n",
    "    print('age3 is oldest and age1 is youngest')\n",
    "else:\n",
    "    print('age3 is oldest and age2 is youngest')"
   ]
  },
  {
   "cell_type": "code",
   "execution_count": 8,
   "id": "4100505c",
   "metadata": {},
   "outputs": [],
   "source": [
    "## QUESTION 4\n",
    "## A student will not be allowed to sit in exam if his/her attendance is less than 75%\n",
    "## take the following input from user\n",
    "## Number of classes held\n",
    "## number of classes attended\n",
    "## And print\n",
    "## percentage of classes attended\n",
    "## is the student allowed to sit in exam or not"
   ]
  },
  {
   "cell_type": "code",
   "execution_count": 3,
   "id": "d33da826",
   "metadata": {},
   "outputs": [
    {
     "name": "stdout",
     "output_type": "stream",
     "text": [
      "Please enter number of classes held:45\n",
      "Please enter number of classes attended:33\n",
      "73.33333333333333\n",
      "Student is not allowed to sit in exam\n"
     ]
    }
   ],
   "source": [
    "num1 = int(input('Please enter number of classes held:'))\n",
    "num2 = int(input('Please enter number of classes attended:'))\n",
    "# let num3 represent the percentage of class attended\n",
    "num3 = float((num2/num1)* 100)\n",
    "print(num3)\n",
    "if num3 > 75:\n",
    "    print('Student is allowed to sit in exam')\n",
    "else:\n",
    "    print('Student is not allowed to sit in exam')\n"
   ]
  },
  {
   "cell_type": "code",
   "execution_count": 2,
   "id": "11663655",
   "metadata": {},
   "outputs": [],
   "source": [
    "## QUESTION 5\n",
    "## Ask user to enter age, sex (M or F), Marital Status (Y or N) and \n",
    "## using the following rules, print their place of service\n",
    "## if employee is female, then she will work only in urban areas\n",
    "## if employee is male and age is in between 20 to 40, then he may work anywhere\n",
    "## if employee is male and age between 40 to 60, then he will work in urban areas only\n",
    "## and any other input of age should print ''ERROR''"
   ]
  },
  {
   "cell_type": "code",
   "execution_count": 3,
   "id": "12cd90c2",
   "metadata": {},
   "outputs": [
    {
     "name": "stdout",
     "output_type": "stream",
     "text": [
      "the nature of sex:1\n",
      "please enter the age:34\n",
      "please enter the marrital status:y\n",
      "1\n",
      "34\n",
      "y\n",
      "You can work only in urban areas\n"
     ]
    }
   ],
   "source": [
    "sex = int(input('the nature of sex:'))\n",
    "age = int(input('please enter the age:'))\n",
    "ms = str(input('please enter the marrital status:'))\n",
    "print(sex)\n",
    "print(age)\n",
    "print(ms)\n",
    "## let 1 represent female\n",
    "## and 0 represent male\n",
    "if sex ==1:\n",
    "    print('You can work only in urban areas')\n",
    "elif age>=20 and age<40:\n",
    "    print('you can work anywhere')\n",
    "elif age>=40 and age<60:\n",
    "    print('you can only work in urban areas')\n",
    "else:\n",
    "    print('ERROR')"
   ]
  },
  {
   "cell_type": "code",
   "execution_count": 4,
   "id": "e2836e86",
   "metadata": {},
   "outputs": [],
   "source": [
    "## CORRECTION"
   ]
  },
  {
   "cell_type": "code",
   "execution_count": 7,
   "id": "4d2e64a5",
   "metadata": {},
   "outputs": [
    {
     "name": "stdout",
     "output_type": "stream",
     "text": [
      "please enter your age:56\n",
      "please enter your gender (M or F):M\n",
      "please enter your marital status (Y or N):N\n",
      "ERROR\n"
     ]
    }
   ],
   "source": [
    "age = int(input('please enter your age:'))\n",
    "gender = input('please enter your gender (M or F):')\n",
    "maritalstatus = input('please enter your marital status (Y or N):')\n",
    "if gender == 'F':\n",
    "    print('Employee will work only in urban areas')\n",
    "elif gender == 'M' and age >=20 and age < 40:\n",
    "    print('Employee can work anywhere')\n",
    "elif gender == 'M' and age <=40 and age > 60:\n",
    "    print('Employee will work only in urban areas')\n",
    "else:\n",
    "    print('ERROR')"
   ]
  },
  {
   "cell_type": "code",
   "execution_count": null,
   "id": "7d5bfdd6",
   "metadata": {},
   "outputs": [],
   "source": []
  }
 ],
 "metadata": {
  "kernelspec": {
   "display_name": "Python 3 (ipykernel)",
   "language": "python",
   "name": "python3"
  },
  "language_info": {
   "codemirror_mode": {
    "name": "ipython",
    "version": 3
   },
   "file_extension": ".py",
   "mimetype": "text/x-python",
   "name": "python",
   "nbconvert_exporter": "python",
   "pygments_lexer": "ipython3",
   "version": "3.9.12"
  }
 },
 "nbformat": 4,
 "nbformat_minor": 5
}
