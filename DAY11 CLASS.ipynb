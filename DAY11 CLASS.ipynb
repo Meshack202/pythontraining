{
 "cells": [
  {
   "cell_type": "code",
   "execution_count": 1,
   "id": "1931ab59",
   "metadata": {},
   "outputs": [],
   "source": [
    "# DATE AND TIME"
   ]
  },
  {
   "cell_type": "code",
   "execution_count": 2,
   "id": "218b232e",
   "metadata": {},
   "outputs": [
    {
     "name": "stdout",
     "output_type": "stream",
     "text": [
      "['MAXYEAR', 'MINYEAR', '__all__', '__builtins__', '__cached__', '__doc__', '__file__', '__loader__', '__name__', '__package__', '__spec__', 'date', 'datetime', 'datetime_CAPI', 'sys', 'time', 'timedelta', 'timezone', 'tzinfo']\n"
     ]
    }
   ],
   "source": [
    "import datetime\n",
    "print(dir(datetime))"
   ]
  },
  {
   "cell_type": "code",
   "execution_count": 3,
   "id": "4f473dfd",
   "metadata": {},
   "outputs": [
    {
     "data": {
      "text/plain": [
       "datetime.date(2023, 1, 12)"
      ]
     },
     "execution_count": 3,
     "metadata": {},
     "output_type": "execute_result"
    }
   ],
   "source": [
    "date1 = datetime.date(2023,1,12)\n",
    "date1"
   ]
  },
  {
   "cell_type": "code",
   "execution_count": 4,
   "id": "acad2407",
   "metadata": {},
   "outputs": [
    {
     "data": {
      "text/plain": [
       "datetime.date"
      ]
     },
     "execution_count": 4,
     "metadata": {},
     "output_type": "execute_result"
    }
   ],
   "source": [
    "type(date1)"
   ]
  },
  {
   "cell_type": "code",
   "execution_count": 5,
   "id": "2647354c",
   "metadata": {},
   "outputs": [
    {
     "name": "stdout",
     "output_type": "stream",
     "text": [
      "2023\n",
      "1\n",
      "12\n",
      "3\n",
      "4\n"
     ]
    }
   ],
   "source": [
    "print(date1.year)\n",
    "print(date1.month)\n",
    "print(date1.day)\n",
    "print(date1.weekday())\n",
    "print(date1.isoweekday())"
   ]
  },
  {
   "cell_type": "code",
   "execution_count": 7,
   "id": "0e541cfe",
   "metadata": {},
   "outputs": [
    {
     "name": "stdout",
     "output_type": "stream",
     "text": [
      "2023-02-08\n"
     ]
    }
   ],
   "source": [
    "currentdate = datetime.date.today()\n",
    "print(currentdate)"
   ]
  },
  {
   "cell_type": "code",
   "execution_count": 10,
   "id": "81971290",
   "metadata": {},
   "outputs": [],
   "source": [
    "# strftime: used for the modification of date and time"
   ]
  },
  {
   "cell_type": "code",
   "execution_count": 9,
   "id": "960559c4",
   "metadata": {},
   "outputs": [
    {
     "data": {
      "text/plain": [
       "'08 of February, 2023'"
      ]
     },
     "execution_count": 9,
     "metadata": {},
     "output_type": "execute_result"
    }
   ],
   "source": [
    "currentdate.strftime('%d of %B, %Y')"
   ]
  },
  {
   "cell_type": "code",
   "execution_count": 11,
   "id": "138732f5",
   "metadata": {},
   "outputs": [],
   "source": [
    "# ASS... GET THE LIST OF strftime"
   ]
  },
  {
   "cell_type": "code",
   "execution_count": 12,
   "id": "5b19adca",
   "metadata": {},
   "outputs": [
    {
     "name": "stdout",
     "output_type": "stream",
     "text": [
      "13:33:56.067567\n"
     ]
    }
   ],
   "source": [
    "time1 = datetime.time(13,33,56,67567)\n",
    "print(time1)"
   ]
  },
  {
   "cell_type": "code",
   "execution_count": 13,
   "id": "9ccaeb49",
   "metadata": {},
   "outputs": [
    {
     "name": "stdout",
     "output_type": "stream",
     "text": [
      "13\n",
      "33\n",
      "56\n",
      "67567\n"
     ]
    }
   ],
   "source": [
    "print(time1.hour)\n",
    "print(time1.minute)\n",
    "print(time1.second)\n",
    "print(time1.microsecond)"
   ]
  },
  {
   "cell_type": "code",
   "execution_count": 15,
   "id": "50adf400",
   "metadata": {},
   "outputs": [
    {
     "name": "stdout",
     "output_type": "stream",
     "text": [
      "10:39:20.072553\n"
     ]
    }
   ],
   "source": [
    "currenttime = datetime.datetime.now().time()\n",
    "print(currenttime)"
   ]
  },
  {
   "cell_type": "code",
   "execution_count": 16,
   "id": "ae404b51",
   "metadata": {},
   "outputs": [],
   "source": [
    "# TIME AND strftime"
   ]
  },
  {
   "cell_type": "code",
   "execution_count": 18,
   "id": "3abcaac6",
   "metadata": {},
   "outputs": [
    {
     "data": {
      "text/plain": [
       "'10::39::20::AM'"
      ]
     },
     "execution_count": 18,
     "metadata": {},
     "output_type": "execute_result"
    }
   ],
   "source": [
    "currenttime.strftime('%I::%M::%S::%p')"
   ]
  },
  {
   "cell_type": "code",
   "execution_count": 20,
   "id": "87a5bf1a",
   "metadata": {},
   "outputs": [
    {
     "data": {
      "text/plain": [
       "'10::39::20::072553::AM'"
      ]
     },
     "execution_count": 20,
     "metadata": {},
     "output_type": "execute_result"
    }
   ],
   "source": [
    "currenttime.strftime('%I::%M::%S::%f::%p')"
   ]
  },
  {
   "cell_type": "markdown",
   "id": "f46d3884",
   "metadata": {},
   "source": [
    "# EXERCISE \n",
    "# WRITE A PYTHON PROGRAM TO SEND A REMINDER MESSAGE TO SIX OF REGISTERED STUDENTS\n",
    "# OF THE DATE AND TIME OF THEIR EXAM"
   ]
  },
  {
   "cell_type": "code",
   "execution_count": 27,
   "id": "1395822d",
   "metadata": {},
   "outputs": [
    {
     "name": "stdout",
     "output_type": "stream",
     "text": [
      "Hey, John this is a kind reminder of your exam slated on the 24 of April, 2023 by 06PM prompt\n",
      "Hey, Mary this is a kind reminder of your exam slated on the 24 of April, 2023 by 06PM prompt\n",
      "Hey, Ade this is a kind reminder of your exam slated on the 24 of April, 2023 by 06PM prompt\n",
      "Hey, Gift this is a kind reminder of your exam slated on the 24 of April, 2023 by 06PM prompt\n",
      "Hey, Linus this is a kind reminder of your exam slated on the 24 of April, 2023 by 06PM prompt\n",
      "Hey, Ben this is a kind reminder of your exam slated on the 24 of April, 2023 by 06PM prompt\n"
     ]
    }
   ],
   "source": [
    "student = ['John', 'Mary', 'Ade', 'Gift', 'Linus', 'Ben']\n",
    "dateofexam = datetime.datetime(2023,4,24,18,0,0)\n",
    "for name in student:\n",
    "    print(f'Hey, {name} this is a kind reminder of your exam slated on the {dateofexam.strftime(\"%d of %B, %Y\")} by {dateofexam.strftime(\"%I%p\")} prompt')\n"
   ]
  },
  {
   "cell_type": "code",
   "execution_count": 28,
   "id": "6ea0951a",
   "metadata": {},
   "outputs": [],
   "source": [
    "# strptime: used to convert date and time in string to datetime format"
   ]
  },
  {
   "cell_type": "code",
   "execution_count": 31,
   "id": "5d845a01",
   "metadata": {},
   "outputs": [
    {
     "name": "stdout",
     "output_type": "stream",
     "text": [
      "Please provide your date [mm/dd/yy]4/12/2023\n",
      "2023-04-12\n"
     ]
    }
   ],
   "source": [
    "engagementtime = input('Please provide your date [mm/dd/yy]')\n",
    "date2 = datetime.datetime.strptime(engagementtime, '%m/%d/%Y').date()\n",
    "print(date2)"
   ]
  },
  {
   "cell_type": "code",
   "execution_count": 32,
   "id": "7ef120e9",
   "metadata": {},
   "outputs": [],
   "source": [
    "# time delta: this is the diffrence between two datetime"
   ]
  },
  {
   "cell_type": "code",
   "execution_count": 34,
   "id": "248ca49b",
   "metadata": {},
   "outputs": [
    {
     "data": {
      "text/plain": [
       "datetime.timedelta(days=27)"
      ]
     },
     "execution_count": 34,
     "metadata": {},
     "output_type": "execute_result"
    }
   ],
   "source": [
    "currentdate - date1"
   ]
  },
  {
   "cell_type": "code",
   "execution_count": 35,
   "id": "241484c8",
   "metadata": {},
   "outputs": [
    {
     "data": {
      "text/plain": [
       "datetime.date(2025, 5, 28)"
      ]
     },
     "execution_count": 35,
     "metadata": {},
     "output_type": "execute_result"
    }
   ],
   "source": [
    "currentdate + datetime.timedelta(weeks = 120)"
   ]
  },
  {
   "cell_type": "code",
   "execution_count": 36,
   "id": "759f1ce7",
   "metadata": {},
   "outputs": [
    {
     "data": {
      "text/plain": [
       "datetime.date(2022, 12, 25)"
      ]
     },
     "execution_count": 36,
     "metadata": {},
     "output_type": "execute_result"
    }
   ],
   "source": [
    "currentdate - datetime.timedelta(days = 45)"
   ]
  },
  {
   "cell_type": "code",
   "execution_count": 37,
   "id": "3e0f05fa",
   "metadata": {},
   "outputs": [],
   "source": [
    "# EXERCISE 2\n",
    "# WRITE A PYTHON PROGRAM TO TELL A USER HOW MANY WEEKS AND DAYS \n",
    "# THEY HAVE UNTIL THEIR APPOINTMENT FROM THE CURRENT DATE"
   ]
  },
  {
   "cell_type": "code",
   "execution_count": 40,
   "id": "4a8da959",
   "metadata": {},
   "outputs": [
    {
     "name": "stdout",
     "output_type": "stream",
     "text": [
      "Hey john this is kindly remind you that your appointment date is 2023-03-01 and 2023-02-11\n",
      "Hey marcus this is kindly remind you that your appointment date is 2023-03-01 and 2023-02-11\n"
     ]
    }
   ],
   "source": [
    "appointees = ['john', 'marcus']\n",
    "currentdate + datetime.timedelta(weeks = 3)\n",
    "currentdate + datetime.timedelta(days = 3)\n",
    "for name in appointees:\n",
    "    print(f'Hey {name} this is kindly remind you that your appointment date is {currentdate + datetime.timedelta(weeks = 3)} and {currentdate + datetime.timedelta(days = 3)}')"
   ]
  },
  {
   "cell_type": "code",
   "execution_count": 41,
   "id": "e544c228",
   "metadata": {},
   "outputs": [
    {
     "ename": "SyntaxError",
     "evalue": "invalid syntax (3274196360.py, line 3)",
     "output_type": "error",
     "traceback": [
      "\u001b[1;36m  Input \u001b[1;32mIn [41]\u001b[1;36m\u001b[0m\n\u001b[1;33m    currentdate + datetime.\u001b[0m\n\u001b[1;37m                           ^\u001b[0m\n\u001b[1;31mSyntaxError\u001b[0m\u001b[1;31m:\u001b[0m invalid syntax\n"
     ]
    }
   ],
   "source": [
    "appointees = ['gift', 'mary']\n",
    "date3 = datetime.date(2023,2,22)\n",
    "currentdate + datetime."
   ]
  },
  {
   "cell_type": "code",
   "execution_count": 46,
   "id": "9493c9dc",
   "metadata": {},
   "outputs": [
    {
     "name": "stdout",
     "output_type": "stream",
     "text": [
      "Enter Your Nmae:huma\n",
      "Enter your appointment date [d/m/Y]:12/4/2023\n",
      "Hey huma you have 9 weeks, 0 days and 2 hours to your appointment\n"
     ]
    }
   ],
   "source": [
    "name = input('Enter Your Nmae:')\n",
    "strappointmentdate = input('Enter your appointment date [d/m/Y]:')\n",
    "appointmentdate = datetime.datetime.strptime(strappointmentdate, '%d/%m/%Y').date()\n",
    "currentdate = datetime.date.today()\n",
    "diff = appointmentdate - currentdate\n",
    "trw = diff.days // 7\n",
    "trd = diff.days % 7\n",
    "trh = diff.days // 24\n",
    "print(f'Hey {name} you have {trw} weeks, {trd} days and {trh} hours to your appointment')"
   ]
  },
  {
   "cell_type": "code",
   "execution_count": null,
   "id": "b9b1ebb3",
   "metadata": {},
   "outputs": [],
   "source": []
  }
 ],
 "metadata": {
  "kernelspec": {
   "display_name": "Python 3 (ipykernel)",
   "language": "python",
   "name": "python3"
  },
  "language_info": {
   "codemirror_mode": {
    "name": "ipython",
    "version": 3
   },
   "file_extension": ".py",
   "mimetype": "text/x-python",
   "name": "python",
   "nbconvert_exporter": "python",
   "pygments_lexer": "ipython3",
   "version": "3.9.12"
  }
 },
 "nbformat": 4,
 "nbformat_minor": 5
}
