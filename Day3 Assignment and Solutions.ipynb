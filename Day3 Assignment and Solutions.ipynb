{
 "cells": [
  {
   "cell_type": "code",
   "execution_count": 1,
   "id": "938bfa0c",
   "metadata": {},
   "outputs": [],
   "source": [
    "## Question on Tuple\n",
    "## 1. write a program to reverse the given tuple (46, 53, 45, 48, 55, 45, 49, 51, 51, 58, 50, 55, 53, 57, 50, 46, 55, 55, 47, 57, 55)\n",
    "## 2. write a program to access value 58 from the above tuple\n",
    "## 3. write a program to count the number of occurences of item 55 from the above tuple\n",
    "## 4. write a program to return values of 49 and 57 from the above tuple"
   ]
  },
  {
   "cell_type": "code",
   "execution_count": 1,
   "id": "0c8bdd45",
   "metadata": {},
   "outputs": [
    {
     "name": "stdout",
     "output_type": "stream",
     "text": [
      "21\n"
     ]
    }
   ],
   "source": [
    "examscores = (46, 53, 45, 48, 55, 45, 49, 51, 51, 58, 50, 55, 53, 57, 50, 46, 55, 55, 47, 57, 55)\n",
    "print(len(examscores))"
   ]
  },
  {
   "cell_type": "code",
   "execution_count": 2,
   "id": "6bdf2555",
   "metadata": {},
   "outputs": [
    {
     "name": "stdout",
     "output_type": "stream",
     "text": [
      "(55, 57, 47, 55, 55, 46, 50, 57, 53, 55, 50, 58, 51, 51, 49, 45, 55, 48, 45, 53, 46)\n"
     ]
    }
   ],
   "source": [
    "print(examscores[::-1])"
   ]
  },
  {
   "cell_type": "code",
   "execution_count": 4,
   "id": "c5ecb1bf",
   "metadata": {},
   "outputs": [],
   "source": [
    "## TUPLE is immutable i.e, tuple cannot be modified or changed"
   ]
  },
  {
   "cell_type": "code",
   "execution_count": 5,
   "id": "0f02b838",
   "metadata": {},
   "outputs": [
    {
     "name": "stdout",
     "output_type": "stream",
     "text": [
      "58\n",
      "5\n",
      "49\n",
      "57\n",
      "57\n"
     ]
    }
   ],
   "source": [
    "print(examscores[9])\n",
    "print(examscores.count(55))\n",
    "print(examscores[6])\n",
    "print(examscores[13])\n",
    "print(examscores[19])"
   ]
  },
  {
   "cell_type": "code",
   "execution_count": 6,
   "id": "b57dd200",
   "metadata": {},
   "outputs": [],
   "source": [
    "## Question on LIST\n",
    "## 1. write a program to reverse the given tuple (46, 53, 45, 48, 55, 45, 49, 51, 51, 58, 50, 55, 53, 57, 50, 46, 55, 55, 47, 57, 55)\n",
    "## 2. write a program to access value 58 from the above list\n",
    "## 3. write a program to count the number of occurences of item 51 from the above List\n",
    "## 4. write a program to return values of 49 and 57 from the above list\n",
    "## 5. write a program to add item 69 after 49 in the Python List\n",
    "## 6. write a program to extend [89, 85, 86, 95, 45, 78] to the above program"
   ]
  },
  {
   "cell_type": "code",
   "execution_count": 7,
   "id": "e2b71d49",
   "metadata": {},
   "outputs": [
    {
     "name": "stdout",
     "output_type": "stream",
     "text": [
      "[55, 57, 47, 55, 55, 46, 50, 57, 53, 55, 50, 58, 51, 51, 49, 45, 55, 48, 45, 53, 46]\n",
      "2\n"
     ]
    }
   ],
   "source": [
    "weights = [46, 53, 45, 48, 55, 45, 49, 51, 51, 58, 50, 55, 53, 57, 50, 46, 55, 55, 47, 57, 55]\n",
    "weights.reverse()\n",
    "print(weights)\n",
    "print(weights.count(51))"
   ]
  },
  {
   "cell_type": "code",
   "execution_count": 8,
   "id": "962760af",
   "metadata": {},
   "outputs": [
    {
     "name": "stdout",
     "output_type": "stream",
     "text": [
      "49\n",
      "57\n",
      "57\n"
     ]
    }
   ],
   "source": [
    "print(weights[14])\n",
    "print(weights[1])\n",
    "print(weights[7])"
   ]
  },
  {
   "cell_type": "code",
   "execution_count": 9,
   "id": "3e76ba0f",
   "metadata": {},
   "outputs": [
    {
     "name": "stdout",
     "output_type": "stream",
     "text": [
      "[55, 57, 47, 55, 55, 46, 50, 57, 53, 55, 50, 58, 51, 51, 49, 69, 45, 55, 48, 45, 53, 46]\n"
     ]
    }
   ],
   "source": [
    "weights.insert(15, 69)\n",
    "print(weights)"
   ]
  },
  {
   "cell_type": "code",
   "execution_count": 10,
   "id": "45cd3963",
   "metadata": {},
   "outputs": [
    {
     "name": "stdout",
     "output_type": "stream",
     "text": [
      "[55, 57, 47, 55, 55, 46, 50, 57, 53, 55, 50, 58, 51, 51, 49, 69, 45, 55, 48, 45, 53, 46, 89, 85, 86, 95, 45, 78]\n"
     ]
    }
   ],
   "source": [
    "otherweights = [89, 85, 86, 95, 45, 78]\n",
    "weights.extend(otherweights)\n",
    "print(weights)"
   ]
  },
  {
   "cell_type": "code",
   "execution_count": 11,
   "id": "329ee21d",
   "metadata": {},
   "outputs": [],
   "source": [
    "## QUESTION ON DICTIONARY\n",
    "## Write a Python program to create a new dictionary having\n",
    "## 10 football club names as the key with each key holding\n",
    "## following values (Location, Manager's Name, Club Captain, net worth, club formation)\n",
    "## NOTE: THE NET WORTH OF THE CLUB ARE IN BILLION DOLLARS"
   ]
  },
  {
   "cell_type": "code",
   "execution_count": 12,
   "id": "3582d96c",
   "metadata": {},
   "outputs": [],
   "source": [
    "footballclubs = {\n",
    "    'Arsenal':['England', 'Mike Arteta', 'Martin Odegaard', 2.9, 4141],\n",
    "    'PSG':['France', 'Christopher Galtier', 'Marquinhnos', 3.2, 433],\n",
    "    'Chelsea':['England', 'Graham Potter', 'Cesar Azpilicueta', 3.1, 343],\n",
    "    'Barcelona':['Spain', 'Xavi Hernadex', 'Ter Stegen', 5, 433],\n",
    "    'Napoli':['Italy', 'Luciano Spalletti', 'Giovanni Di Lorenzo', 0.506, 433],\n",
    "    'Ajax':['Netherlands', 'Alfred Schreuder', 'Dusan Tadic', 0.283, 433],\n",
    "    'Augsburg':['Germany', 'Enrico Maaben', 'Christopher Timmel', 0.112, 343],\n",
    "    'Sevilla':['Spain', 'Jorge Sampaoli', 'Marko Dmitrovic', 0.316, 3421],\n",
    "    'Juventus':['Italy', 'Massimilliano Allegri', 'Leonardo Bonucci', 2.45, 433],\n",
    "    'Trabzonspor':['Turkey', 'Abdullahi Avci', 'Anthony Nwakeeme', 0.102, 4231]\n",
    "}"
   ]
  },
  {
   "cell_type": "code",
   "execution_count": 13,
   "id": "4b555b44",
   "metadata": {},
   "outputs": [
    {
     "name": "stdout",
     "output_type": "stream",
     "text": [
      "['France', 'Christopher Galtier', 'Marquinhnos', 3.2, 433]\n"
     ]
    }
   ],
   "source": [
    "print(footballclubs['PSG'])"
   ]
  },
  {
   "cell_type": "code",
   "execution_count": null,
   "id": "f58e4fb0",
   "metadata": {},
   "outputs": [],
   "source": []
  }
 ],
 "metadata": {
  "kernelspec": {
   "display_name": "Python 3 (ipykernel)",
   "language": "python",
   "name": "python3"
  },
  "language_info": {
   "codemirror_mode": {
    "name": "ipython",
    "version": 3
   },
   "file_extension": ".py",
   "mimetype": "text/x-python",
   "name": "python",
   "nbconvert_exporter": "python",
   "pygments_lexer": "ipython3",
   "version": "3.9.12"
  }
 },
 "nbformat": 4,
 "nbformat_minor": 5
}
