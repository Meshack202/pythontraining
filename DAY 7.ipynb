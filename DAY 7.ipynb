{
 "cells": [
  {
   "cell_type": "code",
   "execution_count": 4,
   "id": "07d62040",
   "metadata": {},
   "outputs": [
    {
     "name": "stdout",
     "output_type": "stream",
     "text": [
      "<class 'tuple'>\n"
     ]
    },
    {
     "data": {
      "text/plain": [
       "' The average score of the following numbers (25, 23, 54, 87, 98, 56) is 57.17'"
      ]
     },
     "execution_count": 4,
     "metadata": {},
     "output_type": "execute_result"
    }
   ],
   "source": [
    "def averagescore(*num):\n",
    "    print(type(num))\n",
    "    average = round(sum(num)/len(num),2)\n",
    "    return f' The average score of the following numbers {num} is {average}'\n",
    "averagescore(25,23,54,87,98,56)    "
   ]
  },
  {
   "cell_type": "code",
   "execution_count": 6,
   "id": "3b2e610c",
   "metadata": {},
   "outputs": [
    {
     "name": "stdout",
     "output_type": "stream",
     "text": [
      "Apple   Cup   45   Cherry   "
     ]
    }
   ],
   "source": [
    "def items(*goods):\n",
    "    for listitems in goods:\n",
    "        print(listitems, end = '   ')\n",
    "items('Apple','Cup',45,'Cherry')        "
   ]
  },
  {
   "cell_type": "code",
   "execution_count": 9,
   "id": "ef8e3a1a",
   "metadata": {},
   "outputs": [
    {
     "name": "stdout",
     "output_type": "stream",
     "text": [
      "[16, 28, 49, 21, 53, 28, 30, 26, 51, 38, 47, 25, 26, 42, 21, 44, 47, 30, 20, 48, 44, 51, 28, 19, 25, 48, 35, 21, 48, 39, 55, 37, 24, 21, 24, 31, 36, 43, 51, 16, 18, 47, 56, 17, 17, 22, 16, 18, 39, 54]\n"
     ]
    }
   ],
   "source": [
    "import random\n",
    "numbers = []\n",
    "counter = 1\n",
    "while counter <= 50:\n",
    "    num = random.randint(14,56)\n",
    "    numbers.append(num)\n",
    "    counter +=1\n",
    "print(numbers)    \n",
    "    "
   ]
  },
  {
   "cell_type": "code",
   "execution_count": 43,
   "id": "eea9b7b7",
   "metadata": {},
   "outputs": [
    {
     "name": "stdout",
     "output_type": "stream",
     "text": [
      "<class 'tuple'>\n"
     ]
    },
    {
     "data": {
      "text/plain": [
       "' The average score of the following numbers (2, 1, 6, 6, 2) is 3.4'"
      ]
     },
     "execution_count": 43,
     "metadata": {},
     "output_type": "execute_result"
    }
   ],
   "source": [
    "averagescore(*numbers)"
   ]
  },
  {
   "cell_type": "code",
   "execution_count": 12,
   "id": "68b26e49",
   "metadata": {},
   "outputs": [
    {
     "name": "stdout",
     "output_type": "stream",
     "text": [
      "<class 'dict'>\n",
      "name ::: Bon jovi\n",
      "age ::: 35\n",
      "address ::: No 25 highway street\n"
     ]
    }
   ],
   "source": [
    "def records(**details):\n",
    "    print(type(details))\n",
    "    for key,value in details.items():\n",
    "        print(key, ':::', value)\n",
    "records(name = 'Bon jovi', age = 35, address = 'No 25 highway street')        "
   ]
  },
  {
   "cell_type": "code",
   "execution_count": 17,
   "id": "e96474be",
   "metadata": {},
   "outputs": [
    {
     "name": "stdout",
     "output_type": "stream",
     "text": [
      "<class 'dict'>\n",
      "Name ::: Job\n",
      "Age ::: 56\n"
     ]
    }
   ],
   "source": [
    "family = {\n",
    "    'Name':'Job',\n",
    "    'Age':56\n",
    "}\n",
    "records(**family)"
   ]
  },
  {
   "cell_type": "code",
   "execution_count": 18,
   "id": "ac62a01c",
   "metadata": {},
   "outputs": [],
   "source": [
    "# Exercise 1\n",
    "# Write a function with a variable lenght to accept 6 values for the following keys and after you display them\n",
    "# ItemName, ItemCategory, ItemCondition, ItemWeight"
   ]
  },
  {
   "cell_type": "code",
   "execution_count": 21,
   "id": "dbdfe7b8",
   "metadata": {},
   "outputs": [
    {
     "name": "stdout",
     "output_type": "stream",
     "text": [
      "[2, 1, 6, 6, 2]\n"
     ]
    }
   ],
   "source": [
    "import random\n",
    "numbers = []\n",
    "counter = 6\n",
    "while counter <= 10:\n",
    "    num = random.randint(1,6)\n",
    "    numbers.append(num)\n",
    "    counter +=1\n",
    "print(numbers)    "
   ]
  },
  {
   "cell_type": "code",
   "execution_count": 42,
   "id": "349462dd",
   "metadata": {},
   "outputs": [
    {
     "name": "stdout",
     "output_type": "stream",
     "text": [
      "<class 'dict'>\n",
      "itemname ::: ['Apple Phone', 'Android Phone', 'Tablets', 'Calulators', 'Ipads', 'Watches']\n",
      "ItemCetegoty ::: ['Electronics', 'Wears', 'Electronics', 'Wears', 'Electronics', 'Wears']\n",
      "itermCondition ::: ['Brand New', 'Firly Used', 'Tokumbo', 'New', 'Paper Type', 'Rubber Type']\n",
      "ItemWeight ::: [15, 17, 25, 35, 20, 15]\n"
     ]
    }
   ],
   "source": [
    "def items(**details):\n",
    "    print(type(details))\n",
    "    for key,value in details.items():\n",
    "        print(key, ':::', value)\n",
    "items(itemname = ['Apple Phone','Android Phone','Tablets','Calulators','Ipads', 'Watches',], ItemCetegoty = ['Electronics','Wears','Electronics','Wears','Electronics','Wears',], itermCondition = ['Brand New','Firly Used','Tokumbo','New','Paper Type','Rubber Type'], ItemWeight = [15,17,25,35,20,15])        "
   ]
  },
  {
   "cell_type": "markdown",
   "id": "6b92fbae",
   "metadata": {},
   "source": [
    "# LAMBDA FUNCTION"
   ]
  },
  {
   "cell_type": "code",
   "execution_count": 32,
   "id": "c6332f28",
   "metadata": {},
   "outputs": [
    {
     "data": {
      "text/plain": [
       "90"
      ]
     },
     "execution_count": 32,
     "metadata": {},
     "output_type": "execute_result"
    }
   ],
   "source": [
    "(lambda x,y: x * y)(45,2)"
   ]
  },
  {
   "cell_type": "code",
   "execution_count": 34,
   "id": "7bb7ea59",
   "metadata": {},
   "outputs": [
    {
     "name": "stdout",
     "output_type": "stream",
     "text": [
      "Provide a nameAdedeji\n"
     ]
    },
    {
     "data": {
      "text/plain": [
       "'Adedeji starts with upper case'"
      ]
     },
     "execution_count": 34,
     "metadata": {},
     "output_type": "execute_result"
    }
   ],
   "source": [
    "(lambda name: f'{name} starts with upper case' if name[0] ==name[0].upper() else f'{name} does not start with upper case letter')(input('Provide a name'))"
   ]
  },
  {
   "cell_type": "markdown",
   "id": "75b3c2b3",
   "metadata": {},
   "source": [
    "# MAP and FILTER"
   ]
  },
  {
   "cell_type": "code",
   "execution_count": 36,
   "id": "ab933598",
   "metadata": {},
   "outputs": [
    {
     "data": {
      "text/plain": [
       "'P   Y   T   H   O   N'"
      ]
     },
     "execution_count": 36,
     "metadata": {},
     "output_type": "execute_result"
    }
   ],
   "source": [
    "word = 'python'\n",
    "updatewords = list(map(lambda x: x.upper(),word))\n",
    "updatewords = '   '.join(updatewords)\n",
    "updatewords"
   ]
  },
  {
   "cell_type": "code",
   "execution_count": 37,
   "id": "2d6256d0",
   "metadata": {},
   "outputs": [
    {
     "data": {
      "text/plain": [
       "['BINGO', 'PATTY', 'MANULLY', 'BEAR', 'ROCKY']"
      ]
     },
     "execution_count": 37,
     "metadata": {},
     "output_type": "execute_result"
    }
   ],
   "source": [
    "dogsname = ['bingo', 'patty', 'manully', 'bear', 'rocky']\n",
    "updatewords = list(map(lambda x: x.upper(),dogsname))\n",
    "updatewords"
   ]
  },
  {
   "cell_type": "code",
   "execution_count": 39,
   "id": "38ba0248",
   "metadata": {},
   "outputs": [
    {
     "data": {
      "text/plain": [
       "['bingo', 'bear']"
      ]
     },
     "execution_count": 39,
     "metadata": {},
     "output_type": "execute_result"
    }
   ],
   "source": [
    "updatewords = list(filter(lambda x: x.startswith('b'),dogsname))\n",
    "updatewords"
   ]
  },
  {
   "cell_type": "code",
   "execution_count": null,
   "id": "9b8e6104",
   "metadata": {},
   "outputs": [],
   "source": []
  }
 ],
 "metadata": {
  "kernelspec": {
   "display_name": "Python 3 (ipykernel)",
   "language": "python",
   "name": "python3"
  },
  "language_info": {
   "codemirror_mode": {
    "name": "ipython",
    "version": 3
   },
   "file_extension": ".py",
   "mimetype": "text/x-python",
   "name": "python",
   "nbconvert_exporter": "python",
   "pygments_lexer": "ipython3",
   "version": "3.9.12"
  }
 },
 "nbformat": 4,
 "nbformat_minor": 5
}
