{
 "cells": [
  {
   "cell_type": "code",
   "execution_count": 1,
   "id": "756e1f51",
   "metadata": {},
   "outputs": [
    {
     "name": "stdout",
     "output_type": "stream",
     "text": [
      "Enter y as yes to perform operation and n as no to quit:y\n",
      "Enter phone name:Gionee M5\n",
      "Enter phone model:8002\n",
      "Enter phone quantity:45\n",
      "Enter phone price:56000\n",
      "Enter y as yes to perform operation and n as no to quit:y\n",
      "Enter phone name:Samsung S6 Edge\n",
      "Enter phone model:76757\n",
      "Enter phone quantity:34\n",
      "Enter phone price:300000\n",
      "Enter y as yes to perform operation and n as no to quit:n\n",
      "___________THE LIST OF AVAILABLE PHONES_____________\n",
      "1 .  Gionee M5::8002::56000::45\n",
      "2 .  Samsung S6 Edge::76757::300000::34\n"
     ]
    }
   ],
   "source": [
    "class PHONESTORES:\n",
    "    def __init__(self,phonename,model,quantity,price):\n",
    "        self.phonename = phonename\n",
    "        self.model = model\n",
    "        self.quantity = quantity\n",
    "        self.price = price\n",
    "        \n",
    "    def getprice(self):\n",
    "        return self.price\n",
    "    def getmodel(self):\n",
    "        return self.model\n",
    "    def getquantity(self):\n",
    "        return self.quantity\n",
    "    def __str__(self):\n",
    "        return self.phonename + '::' + str(self.getmodel()) + '::'+ str(self.getprice()) + '::'+ str(self.getquantity())\n",
    "def price(rec,phonename,model,quantity,price):\n",
    "    rec.append(PHONESTORES(phonename,model,quantity,price))\n",
    "    return rec\n",
    "records = []\n",
    "x = input('Enter y as yes to perform operation and n as no to quit:')\n",
    "while x == 'y':\n",
    "    phonename = input('Enter phone name:')\n",
    "    model = input('Enter phone model:')\n",
    "    quantity = input('Enter phone quantity:')\n",
    "    PRICE = input('Enter phone price:')\n",
    "    records = price(records,phonename,model,quantity,PRICE)\n",
    "    x = input('Enter y as yes to perform operation and n as no to quit:')\n",
    "counter = 1\n",
    "print('___________THE LIST OF AVAILABLE PHONES ARE _____________')\n",
    "for items in records:\n",
    "    print(counter, '. ', items)\n",
    "    counter = counter + 1\n",
    "\n"
   ]
  },
  {
   "cell_type": "code",
   "execution_count": null,
   "id": "3a0e3d35",
   "metadata": {},
   "outputs": [],
   "source": []
  }
 ],
 "metadata": {
  "kernelspec": {
   "display_name": "Python 3 (ipykernel)",
   "language": "python",
   "name": "python3"
  },
  "language_info": {
   "codemirror_mode": {
    "name": "ipython",
    "version": 3
   },
   "file_extension": ".py",
   "mimetype": "text/x-python",
   "name": "python",
   "nbconvert_exporter": "python",
   "pygments_lexer": "ipython3",
   "version": "3.9.12"
  }
 },
 "nbformat": 4,
 "nbformat_minor": 5
}
