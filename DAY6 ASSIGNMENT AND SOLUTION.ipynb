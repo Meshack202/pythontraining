{
 "cells": [
  {
   "cell_type": "code",
   "execution_count": 1,
   "id": "55e5de83",
   "metadata": {},
   "outputs": [],
   "source": [
    "## QUESTION 1\n",
    "## Write a Python function to calculate the Body Mass Index (BMI)\n",
    "## of a customer using this formular (weight * height^2)\n",
    "## and write a condition to find the BMI Category"
   ]
  },
  {
   "cell_type": "code",
   "execution_count": 68,
   "id": "eddd3816",
   "metadata": {},
   "outputs": [
    {
     "name": "stdout",
     "output_type": "stream",
     "text": [
      "---------THE CUSTOMER BODY MASS INDEX DETAILS-----------\n",
      "CUSTOMER NAME:Mary\n",
      "CUSTOMER LOCATION:Kubwa\n",
      "CUSTOMER GENDER:Female\n",
      "CUSTOMER WEIGHT:80\n",
      "CUSTOMER HEIGHT:1.5\n",
      "CUSTOMER AGE:40\n",
      "\n"
     ]
    },
    {
     "ename": "TypeError",
     "evalue": "'<' not supported between instances of 'function' and 'float'",
     "output_type": "error",
     "traceback": [
      "\u001b[1;31m---------------------------------------------------------------------------\u001b[0m",
      "\u001b[1;31mTypeError\u001b[0m                                 Traceback (most recent call last)",
      "Input \u001b[1;32mIn [68]\u001b[0m, in \u001b[0;36m<cell line: 24>\u001b[1;34m()\u001b[0m\n\u001b[0;32m     22\u001b[0m     \u001b[38;5;28;01melif\u001b[39;00m bmi \u001b[38;5;241m>\u001b[39m\u001b[38;5;241m=\u001b[39m \u001b[38;5;241m40\u001b[39m:\n\u001b[0;32m     23\u001b[0m         \u001b[38;5;28mprint\u001b[39m(\u001b[38;5;124mf\u001b[39m\u001b[38;5;124m'\u001b[39m\u001b[38;5;124mCustomer Weight is Class 3 Obese\u001b[39m\u001b[38;5;124m'\u001b[39m)\n\u001b[1;32m---> 24\u001b[0m \u001b[43mCUSTOMERINFO\u001b[49m\u001b[43m(\u001b[49m\u001b[38;5;124;43m'\u001b[39;49m\u001b[38;5;124;43mMary\u001b[39;49m\u001b[38;5;124;43m'\u001b[39;49m\u001b[43m,\u001b[49m\u001b[38;5;124;43m'\u001b[39;49m\u001b[38;5;124;43mKubwa\u001b[39;49m\u001b[38;5;124;43m'\u001b[39;49m\u001b[43m,\u001b[49m\u001b[38;5;124;43m'\u001b[39;49m\u001b[38;5;124;43mFemale\u001b[39;49m\u001b[38;5;124;43m'\u001b[39;49m\u001b[43m,\u001b[49m\u001b[38;5;241;43m80\u001b[39;49m\u001b[43m,\u001b[49m\u001b[38;5;241;43m1.5\u001b[39;49m\u001b[43m,\u001b[49m\u001b[38;5;241;43m40\u001b[39;49m\u001b[43m)\u001b[49m\n\u001b[0;32m     25\u001b[0m weight \u001b[38;5;241m=\u001b[39m \u001b[38;5;28mfloat\u001b[39m(weight)\n\u001b[0;32m     26\u001b[0m height \u001b[38;5;241m=\u001b[39m \u001b[38;5;28mfloat\u001b[39m(height)\n",
      "Input \u001b[1;32mIn [68]\u001b[0m, in \u001b[0;36mCUSTOMERINFO\u001b[1;34m(name, location, gender, weight, height, age)\u001b[0m\n\u001b[0;32m      3\u001b[0m         \u001b[38;5;28;01mreturn\u001b[39;00m \u001b[38;5;28mround\u001b[39m(weight\u001b[38;5;241m/\u001b[39m(height\u001b[38;5;241m*\u001b[39m\u001b[38;5;241m*\u001b[39m\u001b[38;5;241m2\u001b[39m))\n\u001b[0;32m      4\u001b[0m     \u001b[38;5;28mprint\u001b[39m(\u001b[38;5;124mf\u001b[39m\u001b[38;5;124m'''\u001b[39m\u001b[38;5;124m---------THE CUSTOMER BODY MASS INDEX DETAILS-----------\u001b[39m\n\u001b[0;32m      5\u001b[0m \u001b[38;5;124mCUSTOMER NAME:\u001b[39m\u001b[38;5;132;01m{\u001b[39;00mname\u001b[38;5;132;01m}\u001b[39;00m\n\u001b[0;32m      6\u001b[0m \u001b[38;5;124mCUSTOMER LOCATION:\u001b[39m\u001b[38;5;132;01m{\u001b[39;00mlocation\u001b[38;5;132;01m}\u001b[39;00m\n\u001b[1;32m   (...)\u001b[0m\n\u001b[0;32m     10\u001b[0m \u001b[38;5;124mCUSTOMER AGE:\u001b[39m\u001b[38;5;132;01m{\u001b[39;00mage\u001b[38;5;132;01m}\u001b[39;00m\n\u001b[0;32m     11\u001b[0m \u001b[38;5;124m'''\u001b[39m)\n\u001b[1;32m---> 12\u001b[0m     \u001b[38;5;28;01mif\u001b[39;00m \u001b[43mbmi\u001b[49m\u001b[43m \u001b[49m\u001b[38;5;241;43m<\u001b[39;49m\u001b[43m \u001b[49m\u001b[38;5;241;43m18.5\u001b[39;49m:\n\u001b[0;32m     13\u001b[0m         \u001b[38;5;28mprint\u001b[39m(\u001b[38;5;124mf\u001b[39m\u001b[38;5;124m'\u001b[39m\u001b[38;5;124mYou are overweight\u001b[39m\u001b[38;5;124m'\u001b[39m)\n\u001b[0;32m     14\u001b[0m     \u001b[38;5;28;01melif\u001b[39;00m \u001b[38;5;241m18.5\u001b[39m \u001b[38;5;241m<\u001b[39m\u001b[38;5;241m=\u001b[39m bmi \u001b[38;5;241m<\u001b[39m\u001b[38;5;241m24.9\u001b[39m:\n",
      "\u001b[1;31mTypeError\u001b[0m: '<' not supported between instances of 'function' and 'float'"
     ]
    }
   ],
   "source": [
    "def CUSTOMERINFO(name, location, gender, weight, height, age):\n",
    "    def bmi(weight, height):\n",
    "        return round(weight/(height**2))\n",
    "    print(f'''---------THE CUSTOMER BODY MASS INDEX DETAILS-----------\n",
    "CUSTOMER NAME:{name}\n",
    "CUSTOMER LOCATION:{location}\n",
    "CUSTOMER GENDER:{gender}\n",
    "CUSTOMER WEIGHT:{weight}\n",
    "CUSTOMER HEIGHT:{height}\n",
    "CUSTOMER AGE:{age}\n",
    "''')\n",
    "    if bmi < 18.5:\n",
    "        print(f'You are overweight')\n",
    "    elif 18.5 <= bmi <24.9:\n",
    "        print(f'Customer Weight is Normal')\n",
    "    elif 25 <= bmi <29.9:\n",
    "        print(f'Customer Weight is Preobese')\n",
    "    elif 30 <= bmi < 34.9:\n",
    "        print(f'Customer Weight is Class 1 Obese')\n",
    "    elif 35 <= bmi <39.9:\n",
    "        print(f'Customer Weight is Class 2 Obese')\n",
    "    elif bmi >= 40:\n",
    "        print(f'Customer Weight is Class 3 Obese')\n",
    "CUSTOMERINFO('Mary','Kubwa','Female',80,1.5,40)\n",
    "weight = float(weight)\n",
    "height = float(height)"
   ]
  },
  {
   "cell_type": "code",
   "execution_count": 3,
   "id": "a2ad5656",
   "metadata": {},
   "outputs": [],
   "source": [
    "## QUESTION 2\n",
    "## Write a python function to calculate the average score of students in eight subjects\n",
    "## using the average score \n",
    "## find out the grade category of that student by setting the necessary condition"
   ]
  },
  {
   "cell_type": "code",
   "execution_count": 24,
   "id": "20ef38e3",
   "metadata": {},
   "outputs": [
    {
     "name": "stdout",
     "output_type": "stream",
     "text": [
      "...............THE STUDENT EXAM DETAILS..............\n",
      "MATHEMATICS SCORE:67.0\n",
      "ENGLISH LANGUAGE SCORE:89.0\n",
      "BIOLOGY SCORE:98.0\n",
      "CHEMISTRY SCORE:67.0\n",
      "PHYSICS SCORE:56.0\n",
      "AGRICULTURAL SCIENCE SCORES:67.0\n",
      "ECONOMICS SCORE:56.0\n",
      "GEOGRAPHY SCORE:56.0\n",
      "AVERAGE SCORE:69.5\n",
      "\n",
      "The Student Average Score is 69.5\n",
      "Your average score in the exam is B+\n"
     ]
    },
    {
     "data": {
      "text/plain": [
       "67.875"
      ]
     },
     "execution_count": 24,
     "metadata": {},
     "output_type": "execute_result"
    }
   ],
   "source": [
    "def Studentexam(maths, eng, bio, chm, phy, agric, econs, geo):\n",
    "    return((maths+eng+bio+chm+phy+agric+econs+geo)/8)\n",
    "avg = Studentexam(maths, eng, bio, chm, phy, agric, econs, geo)\n",
    "avg = ((maths + eng + bio + chm + phy + agric + econs + geo)/8)\n",
    "print(f'''...............THE STUDENT EXAM DETAILS..............\n",
    "MATHEMATICS SCORE:{maths}\n",
    "ENGLISH LANGUAGE SCORE:{eng}\n",
    "BIOLOGY SCORE:{bio}\n",
    "CHEMISTRY SCORE:{chm}\n",
    "PHYSICS SCORE:{phy}\n",
    "AGRICULTURAL SCIENCE SCORES:{agric}\n",
    "ECONOMICS SCORE:{econs}\n",
    "GEOGRAPHY SCORE:{geo}\n",
    "AVERAGE SCORE:{(maths + eng + bio + chm + phy + agric + econs + geo) / 8}\n",
    "''')\n",
    "print(f'The Student Average Score is {avg}')\n",
    "if avg < 40:\n",
    "    print(f'You failed the exam')\n",
    "elif 40 <= avg < 50:\n",
    "    print(f'Your average score in the exam is C')\n",
    "elif 50 <= avg < 60:\n",
    "    print(f'Your average score in the exam is B')\n",
    "elif 60 <= avg < 85:\n",
    "    print(f'Your average score in the exam is B+')\n",
    "else:\n",
    "    print(f'Your average score in the exam is A')\n",
    "Studentexam(56, 45, 65, 67, 78, 98, 89, 45)\n",
    "    "
   ]
  },
  {
   "cell_type": "code",
   "execution_count": 4,
   "id": "d629ae59",
   "metadata": {},
   "outputs": [
    {
     "name": "stdout",
     "output_type": "stream",
     "text": [
      "Please enter your height in meters:1.5\n",
      "Please enter your weight in Kg:56\n",
      "Your bmi is 24.889\n",
      "YOUR ARE NORMAL WEIGHT\n"
     ]
    }
   ],
   "source": [
    "def bodymassindex(height, weight):\n",
    "    return round((weight/(height**2)),3)\n",
    "h = float(input('Please enter your height in meters:'))\n",
    "w = float(input('Please enter your weight in Kg:'))\n",
    "bmi = bodymassindex(h, w)\n",
    "bmi == (w/h**2)\n",
    "print(f'Your bmi is {bmi}')\n",
    "if bmi <= 18.5:\n",
    "    print('YOUR ARE UNDERWEIGHT')\n",
    "elif 18.5 < bmi <= 25:\n",
    "    print('YOUR ARE NORMAL WEIGHT')\n",
    "elif 25 < bmi <= 29.9:\n",
    "    print('YOU ARE OVERWHEIGHT')\n",
    "else:\n",
    "    print('YOU ARE OBESE')"
   ]
  },
  {
   "cell_type": "code",
   "execution_count": 15,
   "id": "bb7a6d67",
   "metadata": {},
   "outputs": [
    {
     "name": "stdout",
     "output_type": "stream",
     "text": [
      "Customer Weight is Normal\n"
     ]
    },
    {
     "data": {
      "text/plain": [
       "36"
      ]
     },
     "execution_count": 15,
     "metadata": {},
     "output_type": "execute_result"
    }
   ],
   "source": [
    "\n"
   ]
  },
  {
   "cell_type": "code",
   "execution_count": 5,
   "id": "fc23369e",
   "metadata": {},
   "outputs": [
    {
     "name": "stdout",
     "output_type": "stream",
     "text": [
      "Please enter the Mathematics Scores:67\n",
      "Please enter the English Scores:89\n",
      "Please enter the Biology Scores:98\n",
      "Please enter the Chemistry Scores:67\n",
      "Please enter the Physics Scores:56\n",
      "Please enter the Economics Scores:56\n",
      "Please enter the Geography Scores:56\n",
      "Please enter the Agriculture Scores:67\n",
      "The Student Average Score is 69.5\n",
      "Your average score in the exam is B+\n"
     ]
    },
    {
     "ename": "NameError",
     "evalue": "name 'Mathematics' is not defined",
     "output_type": "error",
     "traceback": [
      "\u001b[1;31m---------------------------------------------------------------------------\u001b[0m",
      "\u001b[1;31mNameError\u001b[0m                                 Traceback (most recent call last)",
      "Input \u001b[1;32mIn [5]\u001b[0m, in \u001b[0;36m<cell line: 24>\u001b[1;34m()\u001b[0m\n\u001b[0;32m     22\u001b[0m \u001b[38;5;28;01melse\u001b[39;00m:\n\u001b[0;32m     23\u001b[0m     \u001b[38;5;28mprint\u001b[39m(\u001b[38;5;124mf\u001b[39m\u001b[38;5;124m'\u001b[39m\u001b[38;5;124mYour average score in the exam is A\u001b[39m\u001b[38;5;124m'\u001b[39m)\n\u001b[1;32m---> 24\u001b[0m student_scores(\u001b[43mMathematics\u001b[49m, English, Biology, Chemistry, Physics, Economics, Geography, Agriculture)\n",
      "\u001b[1;31mNameError\u001b[0m: name 'Mathematics' is not defined"
     ]
    }
   ],
   "source": [
    "def student_scores(Mathematics, English, Biology, Chemistry, Physics, Economics, Geography, Agriculture):\n",
    "    return((Mathematics + English + Biology + Chemistry + Physics + Economics + Geography + Agriculture)/8)\n",
    "maths = float(input('Please enter the Mathematicx = input('Enter y as yes to perform operation and n as no to quit:') Scores:'))\n",
    "eng = float(input('Please enter the English Scores:'))\n",
    "bio = float(input('Please enter the Biology Scores:'))\n",
    "chm = float(input('Please enter the Chemistry Scores:'))\n",
    "phy = float(input('Please enter the Physics Scores:'))\n",
    "econs = float(input('Please enter the Economics Scores:'))\n",
    "geo = float(input('Please enter the Geography Scores:'))\n",
    "agric = float(input('Please enter the Agriculture Scores:'))\n",
    "avg = student_scores(maths, eng, bio, chm, phy, econs, geo, agric)\n",
    "avg = ((maths + eng + bio + chm + phy + econs + geo + agric)/8)\n",
    "print(f'The Student Average Score is {avg}')\n",
    "if avg < 40:\n",
    "    print(f'You failed the exam')\n",
    "elif 40 <= avg < 50:\n",
    "    print(f'Your average score in the exam is C')\n",
    "elif 50 <= avg < 60:\n",
    "    print(f'Your average score in the exam is B')\n",
    "elif 60 <= avg < 85:\n",
    "    print(f'Your average score in the exam is B+')\n",
    "else:\n",
    "    print(f'Your average score in the exam is A')\n",
    "student_scores(Mathematics, English, Biology, Chemistry, Physics, Economics, Geography, Agriculture)"
   ]
  },
  {
   "cell_type": "code",
   "execution_count": null,
   "id": "a450aef6",
   "metadata": {},
   "outputs": [],
   "source": []
  }
 ],
 "metadata": {
  "kernelspec": {
   "display_name": "Python 3 (ipykernel)",
   "language": "python",
   "name": "python3"
  },
  "language_info": {
   "codemirror_mode": {
    "name": "ipython",
    "version": 3
   },
   "file_extension": ".py",
   "mimetype": "text/x-python",
   "name": "python",
   "nbconvert_exporter": "python",
   "pygments_lexer": "ipython3",
   "version": "3.9.12"
  }
 },
 "nbformat": 4,
 "nbformat_minor": 5
}
