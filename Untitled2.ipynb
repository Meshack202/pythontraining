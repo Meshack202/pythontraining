{
 "cells": [
  {
   "cell_type": "code",
   "execution_count": 2,
   "id": "64bb51a1",
   "metadata": {},
   "outputs": [
    {
     "ename": "TypeError",
     "evalue": "__init__() missing 4 required positional arguments: 'phonename', 'model', 'quantity', and 'price'",
     "output_type": "error",
     "traceback": [
      "\u001b[1;31m---------------------------------------------------------------------------\u001b[0m",
      "\u001b[1;31mTypeError\u001b[0m                                 Traceback (most recent call last)",
      "Input \u001b[1;32mIn [2]\u001b[0m, in \u001b[0;36m<cell line: 8>\u001b[1;34m()\u001b[0m\n\u001b[0;32m      6\u001b[0m         phone\u001b[38;5;241m.\u001b[39mprice \u001b[38;5;241m=\u001b[39m price\n\u001b[0;32m      7\u001b[0m         phone\u001b[38;5;241m.\u001b[39mtotalprice \u001b[38;5;241m=\u001b[39m price \u001b[38;5;241m*\u001b[39m quantity\n\u001b[1;32m----> 8\u001b[0m customer \u001b[38;5;241m=\u001b[39m \u001b[43mSMARTPHONES\u001b[49m\u001b[43m(\u001b[49m\u001b[43m)\u001b[49m\n\u001b[0;32m      9\u001b[0m counter \u001b[38;5;241m=\u001b[39m \u001b[38;5;241m1\u001b[39m\n\u001b[0;32m     10\u001b[0m operation \u001b[38;5;241m=\u001b[39m \u001b[38;5;28minput\u001b[39m(\u001b[38;5;124m'\u001b[39m\u001b[38;5;124menter y as yes to perform operation and n as no to quit:\u001b[39m\u001b[38;5;124m'\u001b[39m)\n",
      "\u001b[1;31mTypeError\u001b[0m: __init__() missing 4 required positional arguments: 'phonename', 'model', 'quantity', and 'price'"
     ]
    }
   ],
   "source": [
    "class SMARTPHONES:\n",
    "    def __init__(phone, phonename, model, quantity, price,):\n",
    "        phone.phonename = phonename\n",
    "        phone.model = mpdel\n",
    "        phone.quantity = quantity\n",
    "        phone.price = price\n",
    "        phone.totalprice = price * quantity\n",
    "customer = SMARTPHONES()\n",
    "counter = 1\n",
    "operation = input('enter y as yes to perform operation and n as no to quit:')\n",
    "while operation == 'y':\n",
    "    print(f'''__________ smartphone details_________\n",
    "PHONE NAME:{phonename},\n",
    "PHONE MODEL:{model},\n",
    "QUANTITY:{quantity},\n",
    "TOTAL PRICE:{price * quantity}\n",
    "''')\n",
    "    operation = input('enter y as yes to perform operation and n as no to quit:')\n",
    "    counter = counter + 1\n",
    "SMARTPHONES('TECNO T5', '')\n",
    "\n",
    "        \n",
    "        "
   ]
  },
  {
   "cell_type": "code",
   "execution_count": null,
   "id": "c63c8f8b",
   "metadata": {},
   "outputs": [],
   "source": []
  },
  {
   "cell_type": "code",
   "execution_count": null,
   "id": "27274cfd",
   "metadata": {},
   "outputs": [],
   "source": []
  }
 ],
 "metadata": {
  "kernelspec": {
   "display_name": "Python 3 (ipykernel)",
   "language": "python",
   "name": "python3"
  },
  "language_info": {
   "codemirror_mode": {
    "name": "ipython",
    "version": 3
   },
   "file_extension": ".py",
   "mimetype": "text/x-python",
   "name": "python",
   "nbconvert_exporter": "python",
   "pygments_lexer": "ipython3",
   "version": "3.9.12"
  }
 },
 "nbformat": 4,
 "nbformat_minor": 5
}
