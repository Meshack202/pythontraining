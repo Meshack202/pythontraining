{
 "cells": [
  {
   "cell_type": "code",
   "execution_count": 1,
   "id": "dfa21834",
   "metadata": {},
   "outputs": [],
   "source": [
    "# EXERCISE\n",
    "# YOU HAVE JUST BEEN EMPLOYED BY JTECH. WRITE A PROGRAM TO POST HER STAFFS TO THE FOLLOWING STATE (ABIA, KADUNA, \n",
    "# KANO, DELTA, GOMBE, AKWA-IBOM, OYO, OSUN, KWARA) USING THE STAFFID AS THE KEY AND THE VALUES AS NAME,\n",
    "# DOB, ADDRESS, PHONE NUMBER, AND GMAIL.\n",
    "# USE A FUNCTION."
   ]
  },
  {
   "cell_type": "code",
   "execution_count": null,
   "id": "2ea5320e",
   "metadata": {},
   "outputs": [],
   "source": []
  },
  {
   "cell_type": "code",
   "execution_count": null,
   "id": "faa2451b",
   "metadata": {},
   "outputs": [],
   "source": []
  },
  {
   "cell_type": "code",
   "execution_count": 10,
   "id": "1925cab5",
   "metadata": {},
   "outputs": [
    {
     "name": "stdout",
     "output_type": "stream",
     "text": [
      "PLEASE PROVIDE YOUR STAFF ID TO GET YOUR POSTINGJT00004\n",
      "_______________STAFF DETAILS________________\n",
      "    NAME: KINGSLEY OMEH\n",
      "    DATE OF BIRTH: 07/12/2000\n",
      "    ADDRESS: 089778998\n",
      "    EMAIL: KINGOMEH@GMAIL.COM\n",
      "    \n",
      "Congratulation you have been posted to AKWA-IBOM\n"
     ]
    }
   ],
   "source": [
    "def staffposting():\n",
    "    import random\n",
    "    staffrecords = { \n",
    "        'JT00001': ['JOHN JAMES', '02/04/1990', 'KUBWA', '0897678998', 'JOHNJAMES@GMAIL.COM'],\n",
    "        'JT00002': ['JOY ADE', '12/08/1999', 'BERGER STREET', '0897678898', 'JOYADE@GMAIL.COM'],\n",
    "        'JT00003': ['MERCY ETUK', '09/08/1989', 'WUSE 2', '089764568', 'MERCYETUK@GMAIL.COM'],\n",
    "        'JT00004': ['KINGSLEY OMEH', '07/12/2000', 'ST PATRICK STREET', '089778998', 'KINGOMEH@GMAIL.COM'],\n",
    "        'JT00005': ['ISAIAH EMMANUEL', '18/01/1996', 'PHASE 3', '089709798', 'ISAIAHEMMA@GMAIL.COM'],\n",
    "        'JT00006': ['FATIMAH USMAN', '04/05/1999', 'DEI-DEI', '089795498', 'FATIMAHUSMAN@GMAIL.COM'],\n",
    "        'JT00007': ['BOLA HENRY', '02/07/1993', 'KUDURU', '08976745538', 'BOLAHENRY@GMAIL.COM'],\n",
    "    }\n",
    "    branch_location = ['ABIA', 'KADUNA', 'KANO', 'DELTA', 'GOMBE', 'AKWA-IBOM', 'OYO', 'OSUN', 'KWARA']\n",
    "    staffid = input('PLEASE PROVIDE YOUR STAFF ID TO GET YOUR POSTING')\n",
    "    for key in staffrecords:\n",
    "        if staffid == key:\n",
    "            print(f'''_______________STAFF DETAILS________________\n",
    "    NAME: {staffrecords[key][0]}\n",
    "    DATE OF BIRTH: {staffrecords[key][1]}\n",
    "    ADDRESS: {staffrecords[key][3]}\n",
    "    EMAIL: {staffrecords[key][4]}\n",
    "    ''')\n",
    "            print(f'Congratulation you have been posted to {random.choice(branch_location)}')\n",
    "            break\n",
    "    else:\n",
    "        print('Record not found')\n",
    "staffposting()"
   ]
  },
  {
   "cell_type": "markdown",
   "id": "fda18914",
   "metadata": {},
   "source": [
    "## FILE INPUT AND OUTPUT"
   ]
  },
  {
   "cell_type": "code",
   "execution_count": 11,
   "id": "ac7e5494",
   "metadata": {},
   "outputs": [],
   "source": [
    "# keywords\n",
    "# w = write\n",
    "# r = read\n",
    "# a = append\n",
    "# r+ = read before write"
   ]
  },
  {
   "cell_type": "code",
   "execution_count": 12,
   "id": "a4a49b30",
   "metadata": {},
   "outputs": [],
   "source": [
    "file = open('demo.txt','w')\n",
    "file.write('''YOU HAVE JUST BEEN EMPLOYED BY JTECH. WRITE A PROGRAM TO POST HER \n",
    "STAFFS TO THE FOLLOWING STATE (ABIA, KADUNA, \n",
    "KANO, DELTA, GOMBE, AKWA-IBOM, OYO, OSUN, KWARA) USING THE STAFFID AS THE KEY AND THE VALUES AS NAME,\n",
    "DOB, ADDRESS, PHONE NUMBER, AND GMAIL.\n",
    "USE A FUNCTION\n",
    "''')\n",
    "file.close()"
   ]
  },
  {
   "cell_type": "code",
   "execution_count": 13,
   "id": "ffe31043",
   "metadata": {},
   "outputs": [],
   "source": [
    "## To change the format, edit the txt to the format you want."
   ]
  },
  {
   "cell_type": "code",
   "execution_count": 14,
   "id": "033eb7fa",
   "metadata": {},
   "outputs": [],
   "source": [
    "file = open('demo.pdf','w')\n",
    "file.write('''YOU HAVE JUST BEEN EMPLOYED BY JTECH. WRITE A PROGRAM TO POST HER \n",
    "STAFFS TO THE FOLLOWING STATE (ABIA, KADUNA, \n",
    "KANO, DELTA, GOMBE, AKWA-IBOM, OYO, OSUN, KWARA) USING THE STAFFID AS THE KEY AND THE VALUES AS NAME,\n",
    "DOB, ADDRESS, PHONE NUMBER, AND GMAIL.\n",
    "USE A FUNCTION\n",
    "''')\n",
    "file.close()"
   ]
  },
  {
   "cell_type": "code",
   "execution_count": 15,
   "id": "c7fe7f54",
   "metadata": {},
   "outputs": [],
   "source": [
    "## TO READ"
   ]
  },
  {
   "cell_type": "code",
   "execution_count": 18,
   "id": "035f7079",
   "metadata": {},
   "outputs": [
    {
     "name": "stdout",
     "output_type": "stream",
     "text": [
      "YOU HAVE JUST BEEN EMPLOYED BY JTECH. WRITE A PROGRAM TO POST HER \n",
      "STAFFS TO THE FOLLOWING STATE (ABIA, KADUNA, \n",
      "KANO, DELTA, GOMBE, AKWA-IBOM, OYO, OSUN, KWARA) USING THE STAFFID AS THE KEY AND THE VALUES AS NAME,\n",
      "DOB, ADDRESS, PHONE NUMBER, AND GMAIL.\n",
      "USE A FUNCTION\n",
      "\n"
     ]
    }
   ],
   "source": [
    "file =open('demo.pdf','r')\n",
    "print(file.read())\n",
    "file.close()"
   ]
  },
  {
   "cell_type": "code",
   "execution_count": 19,
   "id": "5c449685",
   "metadata": {},
   "outputs": [],
   "source": [
    "## APPEND"
   ]
  },
  {
   "cell_type": "code",
   "execution_count": 21,
   "id": "44903a1e",
   "metadata": {},
   "outputs": [],
   "source": [
    "file = open('demo.pdf','a')\n",
    "file.write('give me the value of the following')\n",
    "file.close()"
   ]
  },
  {
   "cell_type": "code",
   "execution_count": 22,
   "id": "fb6e3b87",
   "metadata": {},
   "outputs": [],
   "source": [
    "## read before write"
   ]
  },
  {
   "cell_type": "code",
   "execution_count": 25,
   "id": "fa1bd2df",
   "metadata": {},
   "outputs": [
    {
     "name": "stdout",
     "output_type": "stream",
     "text": [
      "YOU HAVE JUST BEEN EMPLOYED BY JTECH. WRITE A PROGRAM TO POST HER \n",
      "STAFFS TO THE FOLLOWING STATE (ABIA, KADUNA, \n",
      "KANO, DELTA, GOMBE, AKWA-IBOM, OYO, OSUN, KWARA) USING THE STAFFID AS THE KEY AND THE VALUES AS NAME,\n",
      "DOB, ADDRESS, PHONE NUMBER, AND GMAIL.\n",
      "USE A FUNCTION\n",
      "give me the value of the followingi donts like it too\n"
     ]
    }
   ],
   "source": [
    "file = open('demo.pdf','r+')\n",
    "print(file.read())\n",
    "file.write('i donts like it too')\n",
    "file.close()"
   ]
  },
  {
   "cell_type": "code",
   "execution_count": 26,
   "id": "1f5a4a28",
   "metadata": {},
   "outputs": [
    {
     "name": "stdout",
     "output_type": "stream",
     "text": [
      "YOU HAVE JUST BEEN EMPLOYED BY JTECH. WRITE A PROGRAM TO POST HER \n",
      "STAFFS TO THE FOLLOWING STATE (ABIA, KADUNA, \n",
      "KANO, DELTA, GOMBE, AKWA-IBOM, OYO, OSUN, KWARA) USING THE STAFFID AS THE KEY AND THE VALUES AS NAME,\n",
      "DOB, ADDRESS, PHONE NUMBER, AND GMAIL.\n",
      "USE A FUNCTION\n",
      "give me the value of the followingi donts like it too i donts like it too\n"
     ]
    }
   ],
   "source": [
    "file = open('demo.pdf','r')\n",
    "print(file.read())\n",
    "file.close()"
   ]
  },
  {
   "cell_type": "code",
   "execution_count": null,
   "id": "78101a76",
   "metadata": {},
   "outputs": [],
   "source": []
  }
 ],
 "metadata": {
  "kernelspec": {
   "display_name": "Python 3 (ipykernel)",
   "language": "python",
   "name": "python3"
  },
  "language_info": {
   "codemirror_mode": {
    "name": "ipython",
    "version": 3
   },
   "file_extension": ".py",
   "mimetype": "text/x-python",
   "name": "python",
   "nbconvert_exporter": "python",
   "pygments_lexer": "ipython3",
   "version": "3.9.12"
  }
 },
 "nbformat": 4,
 "nbformat_minor": 5
}
