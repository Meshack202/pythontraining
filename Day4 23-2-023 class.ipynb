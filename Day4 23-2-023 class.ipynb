{
 "cells": [
  {
   "cell_type": "markdown",
   "id": "d3639fda",
   "metadata": {},
   "source": [
    "## DAY4 23/1/2023 CLASS"
   ]
  },
  {
   "cell_type": "markdown",
   "id": "5f79d8de",
   "metadata": {},
   "source": [
    "math"
   ]
  },
  {
   "cell_type": "code",
   "execution_count": 1,
   "id": "97570fd9",
   "metadata": {},
   "outputs": [
    {
     "name": "stdout",
     "output_type": "stream",
     "text": [
      "['__doc__', '__loader__', '__name__', '__package__', '__spec__', 'acos', 'acosh', 'asin', 'asinh', 'atan', 'atan2', 'atanh', 'ceil', 'comb', 'copysign', 'cos', 'cosh', 'degrees', 'dist', 'e', 'erf', 'erfc', 'exp', 'expm1', 'fabs', 'factorial', 'floor', 'fmod', 'frexp', 'fsum', 'gamma', 'gcd', 'hypot', 'inf', 'isclose', 'isfinite', 'isinf', 'isnan', 'isqrt', 'lcm', 'ldexp', 'lgamma', 'log', 'log10', 'log1p', 'log2', 'modf', 'nan', 'nextafter', 'perm', 'pi', 'pow', 'prod', 'radians', 'remainder', 'sin', 'sinh', 'sqrt', 'tan', 'tanh', 'tau', 'trunc', 'ulp']\n"
     ]
    }
   ],
   "source": [
    "import math\n",
    "print(dir(math))"
   ]
  },
  {
   "cell_type": "code",
   "execution_count": 2,
   "id": "be17d24d",
   "metadata": {},
   "outputs": [
    {
     "name": "stdout",
     "output_type": "stream",
     "text": [
      "16\n",
      "15\n",
      "3.96232255123179\n"
     ]
    }
   ],
   "source": [
    "num = 15.7\n",
    "print(math.ceil(num))\n",
    "print(math.floor(num))\n",
    "print(math.sqrt(num))"
   ]
  },
  {
   "cell_type": "markdown",
   "id": "f68e944f",
   "metadata": {},
   "source": [
    "## STATISTICS"
   ]
  },
  {
   "cell_type": "code",
   "execution_count": 3,
   "id": "db21f467",
   "metadata": {},
   "outputs": [
    {
     "name": "stdout",
     "output_type": "stream",
     "text": [
      "['Counter', 'Decimal', 'Fraction', 'NormalDist', 'StatisticsError', '__all__', '__builtins__', '__cached__', '__doc__', '__file__', '__loader__', '__name__', '__package__', '__spec__', '_coerce', '_convert', '_exact_ratio', '_fail_neg', '_find_lteq', '_find_rteq', '_isfinite', '_normal_dist_inv_cdf', '_ss', '_sum', 'bisect_left', 'bisect_right', 'erf', 'exp', 'fabs', 'fmean', 'fsum', 'geometric_mean', 'groupby', 'harmonic_mean', 'hypot', 'itemgetter', 'log', 'math', 'mean', 'median', 'median_grouped', 'median_high', 'median_low', 'mode', 'multimode', 'numbers', 'pstdev', 'pvariance', 'quantiles', 'random', 'sqrt', 'stdev', 'tau', 'variance']\n"
     ]
    }
   ],
   "source": [
    "import statistics as stat\n",
    "print(dir(stat))"
   ]
  },
  {
   "cell_type": "code",
   "execution_count": 5,
   "id": "cedcafe0",
   "metadata": {},
   "outputs": [
    {
     "name": "stdout",
     "output_type": "stream",
     "text": [
      "109.33333333333333\n",
      "50\n",
      "50.0\n",
      "[50]\n"
     ]
    }
   ],
   "source": [
    "numbers = [34, 48, 50, 48, 50, 52, 50, 100, 400, 362, 50, 68]\n",
    "print(stat.mean(numbers))\n",
    "print(stat.mode(numbers))\n",
    "print(stat.median(numbers))\n",
    "print(stat.multimode(numbers))"
   ]
  },
  {
   "cell_type": "code",
   "execution_count": 6,
   "id": "22dba6e1",
   "metadata": {},
   "outputs": [],
   "source": [
    "## RANDOM"
   ]
  },
  {
   "cell_type": "code",
   "execution_count": 7,
   "id": "624bfa36",
   "metadata": {},
   "outputs": [
    {
     "name": "stdout",
     "output_type": "stream",
     "text": [
      "['BPF', 'LOG4', 'NV_MAGICCONST', 'RECIP_BPF', 'Random', 'SG_MAGICCONST', 'SystemRandom', 'TWOPI', '_Sequence', '_Set', '__all__', '__builtins__', '__cached__', '__doc__', '__file__', '__loader__', '__name__', '__package__', '__spec__', '_accumulate', '_acos', '_bisect', '_ceil', '_cos', '_e', '_exp', '_floor', '_inst', '_log', '_os', '_pi', '_random', '_repeat', '_sha512', '_sin', '_sqrt', '_test', '_test_generator', '_urandom', '_warn', 'betavariate', 'choice', 'choices', 'expovariate', 'gammavariate', 'gauss', 'getrandbits', 'getstate', 'lognormvariate', 'normalvariate', 'paretovariate', 'randbytes', 'randint', 'random', 'randrange', 'sample', 'seed', 'setstate', 'shuffle', 'triangular', 'uniform', 'vonmisesvariate', 'weibullvariate']\n"
     ]
    }
   ],
   "source": [
    "import random as rn\n",
    "print(dir(rn))"
   ]
  },
  {
   "cell_type": "code",
   "execution_count": 9,
   "id": "b38e275b",
   "metadata": {},
   "outputs": [
    {
     "name": "stdout",
     "output_type": "stream",
     "text": [
      "48\n",
      "362\n"
     ]
    }
   ],
   "source": [
    "print(rn.randint(46, 66))\n",
    "print(rn.choice(numbers))"
   ]
  },
  {
   "cell_type": "code",
   "execution_count": 10,
   "id": "836946ab",
   "metadata": {},
   "outputs": [],
   "source": [
    "## CONDITIONAL STATEMENT"
   ]
  },
  {
   "cell_type": "code",
   "execution_count": 11,
   "id": "6d9e1f51",
   "metadata": {},
   "outputs": [],
   "source": [
    "## IF STATEMENT"
   ]
  },
  {
   "cell_type": "code",
   "execution_count": 12,
   "id": "af0e7613",
   "metadata": {},
   "outputs": [
    {
     "name": "stdout",
     "output_type": "stream",
     "text": [
      "please enter a number78\n",
      "78 is a positive number\n"
     ]
    }
   ],
   "source": [
    "## write a Python program to check if a given number is positive\n",
    "num = int(input('please enter a number'))\n",
    "if num > 0:\n",
    "    print(f'{num} is a positive number')"
   ]
  },
  {
   "cell_type": "code",
   "execution_count": 13,
   "id": "bc6b16a4",
   "metadata": {},
   "outputs": [
    {
     "name": "stdout",
     "output_type": "stream",
     "text": [
      "please enter a number-78\n",
      "-78 is either a negative number or zero\n"
     ]
    }
   ],
   "source": [
    "## ELSE\n",
    "num = int(input('please enter a number'))\n",
    "if num > 0:\n",
    "    print(f'{num} is a positive number')\n",
    "else:\n",
    "    print(f'{num} is either a negative number or zero')"
   ]
  },
  {
   "cell_type": "code",
   "execution_count": 14,
   "id": "d1ffe294",
   "metadata": {},
   "outputs": [
    {
     "name": "stdout",
     "output_type": "stream",
     "text": [
      "please enter the budget amount:200\n",
      "please enter the gadget amount:70\n",
      "please enter the office amount:58\n",
      "please enter the staff amount:140\n",
      "please enter the others amount:30\n",
      "200 is realistic\n"
     ]
    }
   ],
   "source": [
    "budget = int(input('please enter the budget amount:'))\n",
    "gadget = int(input('please enter the gadget amount:'))\n",
    "office = int(input('please enter the office amount:'))\n",
    "staff = int(input('please enter the staff amount:'))\n",
    "others = int(input('please enter the others amount:'))\n",
    "if (gadget > 59, office > 49, staff > 129 and others > 23):\n",
    "    print(f'{budget} is realistic')\n",
    "else:\n",
    "    print(f'{budget} is not realistic')\n"
   ]
  },
  {
   "cell_type": "code",
   "execution_count": 18,
   "id": "6a44a766",
   "metadata": {},
   "outputs": [
    {
     "name": "stdout",
     "output_type": "stream",
     "text": [
      "please enter the budget amount:560000000\n",
      " The total budget is 739200000.0 which is greater than the estimated budget, therefore the budget is not realistic\n"
     ]
    }
   ],
   "source": [
    "budget = float(input('please enter the budget amount:'))\n",
    "gadget = ((budget/100)* 30)\n",
    "office = ((budget/100)* 25)\n",
    "staff = ((budget/100)* 65)\n",
    "others = ((budget/100)* 12)\n",
    "total = gadget + office + staff + others\n",
    "if total <= budget:\n",
    "    print(f' The total budget is {total} which is less or equal to the estimated budget,\\therefore the budget is realistic')\n",
    "else:\n",
    "    print(f' The total budget is {total} which is greater than the estimated budget, therefore the budget is not realistic')"
   ]
  },
  {
   "cell_type": "code",
   "execution_count": 19,
   "id": "6328311d",
   "metadata": {},
   "outputs": [],
   "source": [
    "## MULTIPLE AND NESTED CONDITION"
   ]
  },
  {
   "cell_type": "code",
   "execution_count": 21,
   "id": "d82065e1",
   "metadata": {},
   "outputs": [
    {
     "name": "stdout",
     "output_type": "stream",
     "text": [
      "WELCOME TO R AND D PLAZA\n",
      "Press the desired floor button:2\n",
      "Enter shop desired button:1\n",
      "Welcome to Moses Shop\n"
     ]
    }
   ],
   "source": [
    "print('WELCOME TO R AND D PLAZA')\n",
    "floor = int(input('Press the desired floor button:'))\n",
    "if floor == 1:\n",
    "    shop = int(input('enter shop desired option:'))\n",
    "    if shop == 1:\n",
    "        print('Welcome to Ojo\\'s Shop')\n",
    "    else:\n",
    "        print('Welcome to Mr Joseph Plaza')\n",
    "elif floor == 2:\n",
    "    shop = int(input('Enter shop desired button:'))\n",
    "    if shop == 1:\n",
    "        print('Welcome to Moses Shop')\n",
    "    else:\n",
    "        print('Welcome to Broadway Computer Training Institute')\n",
    "elif floor == 3:\n",
    "    shop = int(input('Enter shop desired button:'))\n",
    "    if shop == 1:\n",
    "        print('Welcome to Soul Lounge')\n",
    "    else:\n",
    "        print('Welcome to Abijo Unisex')\n",
    "else:\n",
    "    print('Ground floor')\n",
    "        \n",
    "    \n",
    "    "
   ]
  },
  {
   "cell_type": "code",
   "execution_count": null,
   "id": "8e824629",
   "metadata": {},
   "outputs": [],
   "source": []
  }
 ],
 "metadata": {
  "kernelspec": {
   "display_name": "Python 3 (ipykernel)",
   "language": "python",
   "name": "python3"
  },
  "language_info": {
   "codemirror_mode": {
    "name": "ipython",
    "version": 3
   },
   "file_extension": ".py",
   "mimetype": "text/x-python",
   "name": "python",
   "nbconvert_exporter": "python",
   "pygments_lexer": "ipython3",
   "version": "3.9.12"
  }
 },
 "nbformat": 4,
 "nbformat_minor": 5
}
