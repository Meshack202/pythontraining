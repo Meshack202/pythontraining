{
 "cells": [
  {
   "cell_type": "markdown",
   "id": "b23ac942",
   "metadata": {},
   "source": [
    "## DAY 3 CLASS ON 20TH JANUARY 2023"
   ]
  },
  {
   "cell_type": "markdown",
   "id": "63072d53",
   "metadata": {},
   "source": [
    "## ITERABLE OBJECT"
   ]
  },
  {
   "cell_type": "code",
   "execution_count": null,
   "id": "4d751fa8",
   "metadata": {},
   "outputs": [],
   "source": [
    "# TUPLE\n",
    "# Tuple is unchageable\n",
    "# Tuple must be ordered\n",
    "# Tuple is denoted by ()\n",
    "# To access any value, we use the INDEX LOCATION"
   ]
  },
  {
   "cell_type": "code",
   "execution_count": 6,
   "id": "87ae3f91",
   "metadata": {},
   "outputs": [
    {
     "name": "stdout",
     "output_type": "stream",
     "text": [
      "11\n"
     ]
    }
   ],
   "source": [
    "num = (23, 4, 7, 37, 8, 78, 48, 12, 100, 8, 67)\n",
    "print(len(num))"
   ]
  },
  {
   "cell_type": "code",
   "execution_count": 3,
   "id": "a3f92911",
   "metadata": {},
   "outputs": [
    {
     "name": "stdout",
     "output_type": "stream",
     "text": [
      "<class 'tuple'>\n"
     ]
    }
   ],
   "source": [
    "print(type(num))"
   ]
  },
  {
   "cell_type": "code",
   "execution_count": 4,
   "id": "00a233c4",
   "metadata": {},
   "outputs": [
    {
     "name": "stdout",
     "output_type": "stream",
     "text": [
      "8\n"
     ]
    }
   ],
   "source": [
    "print(num[4])"
   ]
  },
  {
   "cell_type": "code",
   "execution_count": 5,
   "id": "ea6dd82e",
   "metadata": {},
   "outputs": [
    {
     "name": "stdout",
     "output_type": "stream",
     "text": [
      "8\n"
     ]
    }
   ],
   "source": [
    "print(num[-7])"
   ]
  },
  {
   "cell_type": "code",
   "execution_count": 7,
   "id": "35fca698",
   "metadata": {},
   "outputs": [
    {
     "name": "stdout",
     "output_type": "stream",
     "text": [
      "(8, 78, 48)\n"
     ]
    }
   ],
   "source": [
    "print(num[4:7])"
   ]
  },
  {
   "cell_type": "code",
   "execution_count": 8,
   "id": "e73ded06",
   "metadata": {},
   "outputs": [
    {
     "name": "stdout",
     "output_type": "stream",
     "text": [
      "False\n"
     ]
    }
   ],
   "source": [
    "print(102 in num)"
   ]
  },
  {
   "cell_type": "code",
   "execution_count": 10,
   "id": "7110fe33",
   "metadata": {},
   "outputs": [
    {
     "name": "stdout",
     "output_type": "stream",
     "text": [
      "2\n"
     ]
    }
   ],
   "source": [
    "print(num.count(8))"
   ]
  },
  {
   "cell_type": "code",
   "execution_count": 11,
   "id": "402db306",
   "metadata": {},
   "outputs": [
    {
     "name": "stdout",
     "output_type": "stream",
     "text": [
      "5\n"
     ]
    }
   ],
   "source": [
    "print(num.index(78))"
   ]
  },
  {
   "cell_type": "code",
   "execution_count": 13,
   "id": "9ac444fa",
   "metadata": {},
   "outputs": [
    {
     "name": "stdout",
     "output_type": "stream",
     "text": [
      "8\n"
     ]
    }
   ],
   "source": [
    "print(num.index(100))"
   ]
  },
  {
   "cell_type": "markdown",
   "id": "c19349d4",
   "metadata": {},
   "source": [
    "# LIST: they are changeable and perform every other functions as tuple"
   ]
  },
  {
   "cell_type": "code",
   "execution_count": 14,
   "id": "929ab14c",
   "metadata": {},
   "outputs": [],
   "source": [
    "fruits = ['Apple', 'Cherry', 'Lemon', 'Grape']"
   ]
  },
  {
   "cell_type": "code",
   "execution_count": 16,
   "id": "637f6a44",
   "metadata": {},
   "outputs": [
    {
     "name": "stdout",
     "output_type": "stream",
     "text": [
      "['Apple', 'Cherry', 'Lemon', 'Grape', 'Pearl']\n"
     ]
    }
   ],
   "source": [
    "fruits.append('Pearl')\n",
    "print(fruits)"
   ]
  },
  {
   "cell_type": "markdown",
   "id": "b61ad5f9",
   "metadata": {},
   "source": [
    "# NOTE: only one item can be added to the List at a time"
   ]
  },
  {
   "cell_type": "code",
   "execution_count": 18,
   "id": "1f656589",
   "metadata": {},
   "outputs": [
    {
     "name": "stdout",
     "output_type": "stream",
     "text": [
      "['Apple', 'Cherry', 'Lemon', 'Grape', 'Pearl', 'Pawpaw', 'Banana', 'Orange', 'Apple']\n"
     ]
    }
   ],
   "source": [
    "newfruits = ['Pawpaw', 'Banana', 'Orange', 'Apple']\n",
    "fruits.extend(newfruits)\n",
    "print(fruits)"
   ]
  },
  {
   "cell_type": "code",
   "execution_count": 19,
   "id": "75df7a40",
   "metadata": {},
   "outputs": [],
   "source": [
    "# the extend function is used to add the second list to the first list"
   ]
  },
  {
   "cell_type": "code",
   "execution_count": 20,
   "id": "e59edf35",
   "metadata": {},
   "outputs": [
    {
     "name": "stdout",
     "output_type": "stream",
     "text": [
      "['Apple', 'Cherry', 'Lemon', 'Coconut', 'Grape', 'Pearl', 'Pawpaw', 'Banana', 'Orange', 'Apple']\n"
     ]
    }
   ],
   "source": [
    "fruits.insert(3, 'Coconut')\n",
    "print(fruits)"
   ]
  },
  {
   "cell_type": "code",
   "execution_count": 21,
   "id": "6147b400",
   "metadata": {},
   "outputs": [],
   "source": [
    "# note: the location of where the value to be inserted must be specified"
   ]
  },
  {
   "cell_type": "code",
   "execution_count": 22,
   "id": "2c4c4b67",
   "metadata": {},
   "outputs": [
    {
     "name": "stdout",
     "output_type": "stream",
     "text": [
      "['Apple', 'Apple', 'Banana', 'Cherry', 'Coconut', 'Grape', 'Lemon', 'Orange', 'Pawpaw', 'Pearl']\n"
     ]
    }
   ],
   "source": [
    "fruits.sort()\n",
    "print(fruits)"
   ]
  },
  {
   "cell_type": "code",
   "execution_count": 23,
   "id": "b4afce4a",
   "metadata": {},
   "outputs": [],
   "source": [
    "# note: sort is used to arrange the item from A - Z"
   ]
  },
  {
   "cell_type": "code",
   "execution_count": 24,
   "id": "8b43ff1a",
   "metadata": {},
   "outputs": [
    {
     "name": "stdout",
     "output_type": "stream",
     "text": [
      "['Pearl', 'Pawpaw', 'Orange', 'Lemon', 'Grape', 'Coconut', 'Cherry', 'Banana', 'Apple', 'Apple']\n"
     ]
    }
   ],
   "source": [
    "fruits.reverse()\n",
    "print(fruits)"
   ]
  },
  {
   "cell_type": "code",
   "execution_count": 25,
   "id": "2ae874db",
   "metadata": {},
   "outputs": [],
   "source": [
    "# note: reverse used to arrange item from Z - A"
   ]
  },
  {
   "cell_type": "code",
   "execution_count": 26,
   "id": "3b7b36a9",
   "metadata": {},
   "outputs": [
    {
     "name": "stdout",
     "output_type": "stream",
     "text": [
      "['Pearl', 'Pawpaw', 'Orange', 'Lemon', 'Coconut', 'Cherry', 'Banana', 'Apple', 'Apple']\n"
     ]
    }
   ],
   "source": [
    "fruits.pop(4)\n",
    "print(fruits)"
   ]
  },
  {
   "cell_type": "code",
   "execution_count": 27,
   "id": "50b00854",
   "metadata": {},
   "outputs": [],
   "source": [
    "# Pop: used to remove the item at that location from the list"
   ]
  },
  {
   "cell_type": "code",
   "execution_count": 28,
   "id": "50ae84d1",
   "metadata": {},
   "outputs": [
    {
     "name": "stdout",
     "output_type": "stream",
     "text": [
      "['Pearl', 'Pawpaw', 'Orange', 'Coconut', 'Cherry', 'Banana', 'Apple', 'Apple']\n"
     ]
    }
   ],
   "source": [
    "fruits.remove('Lemon')\n",
    "print(fruits)"
   ]
  },
  {
   "cell_type": "code",
   "execution_count": 29,
   "id": "e88b71b9",
   "metadata": {},
   "outputs": [],
   "source": [
    "# NOTE: used to specific the particular item to be remove from the list"
   ]
  },
  {
   "cell_type": "code",
   "execution_count": 30,
   "id": "25f09f90",
   "metadata": {},
   "outputs": [
    {
     "name": "stdout",
     "output_type": "stream",
     "text": [
      "['Pearl', 'Pawpaw', 'Orange', 'Coconut', 'Cherry', 'Banana', 'Apple', 'Apple']\n"
     ]
    }
   ],
   "source": [
    "fruits_copy = fruits.copy()\n",
    "print(fruits_copy)"
   ]
  },
  {
   "cell_type": "code",
   "execution_count": 31,
   "id": "525d92bd",
   "metadata": {},
   "outputs": [],
   "source": [
    "#NOTE: the above was used to create the duplicate"
   ]
  },
  {
   "cell_type": "code",
   "execution_count": 32,
   "id": "7971fb03",
   "metadata": {},
   "outputs": [
    {
     "name": "stdout",
     "output_type": "stream",
     "text": [
      "[]\n"
     ]
    }
   ],
   "source": [
    "fruits_copy.clear()\n",
    "print(fruits_copy)"
   ]
  },
  {
   "cell_type": "code",
   "execution_count": 33,
   "id": "2cd52e43",
   "metadata": {},
   "outputs": [],
   "source": [
    "# NOTE: used to remove all items from the list"
   ]
  },
  {
   "cell_type": "code",
   "execution_count": 34,
   "id": "8dae3420",
   "metadata": {},
   "outputs": [
    {
     "ename": "NameError",
     "evalue": "name 'fruits_copy' is not defined",
     "output_type": "error",
     "traceback": [
      "\u001b[1;31m---------------------------------------------------------------------------\u001b[0m",
      "\u001b[1;31mNameError\u001b[0m                                 Traceback (most recent call last)",
      "Input \u001b[1;32mIn [34]\u001b[0m, in \u001b[0;36m<cell line: 2>\u001b[1;34m()\u001b[0m\n\u001b[0;32m      1\u001b[0m \u001b[38;5;28;01mdel\u001b[39;00m(fruits_copy)\n\u001b[1;32m----> 2\u001b[0m \u001b[38;5;28mprint\u001b[39m(\u001b[43mfruits_copy\u001b[49m)\n",
      "\u001b[1;31mNameError\u001b[0m: name 'fruits_copy' is not defined"
     ]
    }
   ],
   "source": [
    "del(fruits_copy)\n",
    "print(fruits_copy)"
   ]
  },
  {
   "cell_type": "markdown",
   "id": "6cf54b3d",
   "metadata": {},
   "source": [
    "# DICTIONARY: use a key to identify values"
   ]
  },
  {
   "cell_type": "code",
   "execution_count": 35,
   "id": "c4a323c4",
   "metadata": {},
   "outputs": [],
   "source": [
    "records = {\n",
    "    'Name': 'John',\n",
    "    'Age': 40,\n",
    "    'Gender': 'Male',\n",
    "    'Height': 2.1,\n",
    "    'Weight': 90\n",
    "}"
   ]
  },
  {
   "cell_type": "code",
   "execution_count": 36,
   "id": "5d7829a8",
   "metadata": {},
   "outputs": [
    {
     "name": "stdout",
     "output_type": "stream",
     "text": [
      "40\n"
     ]
    }
   ],
   "source": [
    "print(records['Age'])"
   ]
  },
  {
   "cell_type": "code",
   "execution_count": 37,
   "id": "2f4da4cf",
   "metadata": {},
   "outputs": [
    {
     "name": "stdout",
     "output_type": "stream",
     "text": [
      "2.1\n"
     ]
    }
   ],
   "source": [
    "print(records['Height'])"
   ]
  },
  {
   "cell_type": "code",
   "execution_count": 38,
   "id": "39f5d0bf",
   "metadata": {},
   "outputs": [
    {
     "name": "stdout",
     "output_type": "stream",
     "text": [
      "dict_keys(['Name', 'Age', 'Gender', 'Height', 'Weight'])\n"
     ]
    }
   ],
   "source": [
    "print(records.keys())"
   ]
  },
  {
   "cell_type": "code",
   "execution_count": 40,
   "id": "ac398d5e",
   "metadata": {},
   "outputs": [
    {
     "name": "stdout",
     "output_type": "stream",
     "text": [
      "dict_values(['John', 40, 'Male', 2.1, 90])\n"
     ]
    }
   ],
   "source": [
    "print(records.values())"
   ]
  },
  {
   "cell_type": "code",
   "execution_count": 41,
   "id": "8893bc97",
   "metadata": {},
   "outputs": [
    {
     "name": "stdout",
     "output_type": "stream",
     "text": [
      "dict_items([('Name', 'John'), ('Age', 40), ('Gender', 'Male'), ('Height', 2.1), ('Weight', 90)])\n"
     ]
    }
   ],
   "source": [
    "print(records.items())"
   ]
  },
  {
   "cell_type": "code",
   "execution_count": 42,
   "id": "a91108ce",
   "metadata": {},
   "outputs": [],
   "source": [
    "# to update value in the dictionary. the spelling must be correct with the previous value"
   ]
  },
  {
   "cell_type": "code",
   "execution_count": 45,
   "id": "94f60105",
   "metadata": {},
   "outputs": [
    {
     "name": "stdout",
     "output_type": "stream",
     "text": [
      "{'Name': 'John', 'Age': 7, 'Gender': 'Male', 'Height': 2.1, 'Weight': 90}\n"
     ]
    }
   ],
   "source": [
    "r = {'Age': 7}\n",
    "records.update(r)\n",
    "print(records)"
   ]
  },
  {
   "cell_type": "code",
   "execution_count": 46,
   "id": "f1d5bad6",
   "metadata": {},
   "outputs": [],
   "source": [
    "# to add new key and value"
   ]
  },
  {
   "cell_type": "code",
   "execution_count": 47,
   "id": "9500a93a",
   "metadata": {},
   "outputs": [
    {
     "name": "stdout",
     "output_type": "stream",
     "text": [
      "{'Name': 'John', 'Age': 7, 'Gender': 'Male', 'Height': 2.1, 'Weight': 90, 'Address': 'Gado Nasko'}\n"
     ]
    }
   ],
   "source": [
    "records['Address'] = 'Gado Nasko'\n",
    "print(records)"
   ]
  },
  {
   "cell_type": "code",
   "execution_count": 48,
   "id": "759f2eb9",
   "metadata": {},
   "outputs": [],
   "source": [
    "# to remove the last item"
   ]
  },
  {
   "cell_type": "code",
   "execution_count": 49,
   "id": "8c7c6fd6",
   "metadata": {},
   "outputs": [
    {
     "name": "stdout",
     "output_type": "stream",
     "text": [
      "{'Name': 'John', 'Age': 7, 'Gender': 'Male', 'Height': 2.1, 'Weight': 90}\n"
     ]
    }
   ],
   "source": [
    "records.popitem()\n",
    "print(records)"
   ]
  },
  {
   "cell_type": "code",
   "execution_count": 50,
   "id": "c809fc5d",
   "metadata": {},
   "outputs": [
    {
     "name": "stdout",
     "output_type": "stream",
     "text": [
      "{'Name': 'John', 'Age': 7, 'Height': 2.1, 'Weight': 90}\n"
     ]
    }
   ],
   "source": [
    "records.pop('Gender')\n",
    "print(records)"
   ]
  },
  {
   "cell_type": "code",
   "execution_count": 51,
   "id": "f3c52dcb",
   "metadata": {},
   "outputs": [],
   "source": [
    "# the above was used to remove the particular value using the key"
   ]
  },
  {
   "cell_type": "code",
   "execution_count": 52,
   "id": "a347ffee",
   "metadata": {},
   "outputs": [],
   "source": [
    "# KEY WITH MULTIPLE VALUES IN A DICTIONARY"
   ]
  },
  {
   "cell_type": "code",
   "execution_count": 60,
   "id": "afc37349",
   "metadata": {},
   "outputs": [],
   "source": [
    "family = {\n",
    "    'firstchild':['Ade',30,'Male'],\n",
    "    'secondchild':['Fatima',25,'Female'],\n",
    "    'thirdchild':['Bose',22,'Female']\n",
    "}"
   ]
  },
  {
   "cell_type": "code",
   "execution_count": 61,
   "id": "913ba4dd",
   "metadata": {},
   "outputs": [
    {
     "name": "stdout",
     "output_type": "stream",
     "text": [
      "['Fatima', 25, 'Female']\n"
     ]
    }
   ],
   "source": [
    "print(family['secondchild'])"
   ]
  },
  {
   "cell_type": "code",
   "execution_count": 63,
   "id": "cf55776e",
   "metadata": {},
   "outputs": [
    {
     "name": "stdout",
     "output_type": "stream",
     "text": [
      "25\n"
     ]
    }
   ],
   "source": [
    "print(family['secondchild'][1])"
   ]
  },
  {
   "cell_type": "code",
   "execution_count": null,
   "id": "cb2108c7",
   "metadata": {},
   "outputs": [],
   "source": [
    "# END OF CLASS FOR THE DAY"
   ]
  }
 ],
 "metadata": {
  "kernelspec": {
   "display_name": "Python 3 (ipykernel)",
   "language": "python",
   "name": "python3"
  },
  "language_info": {
   "codemirror_mode": {
    "name": "ipython",
    "version": 3
   },
   "file_extension": ".py",
   "mimetype": "text/x-python",
   "name": "python",
   "nbconvert_exporter": "python",
   "pygments_lexer": "ipython3",
   "version": "3.9.12"
  }
 },
 "nbformat": 4,
 "nbformat_minor": 5
}
