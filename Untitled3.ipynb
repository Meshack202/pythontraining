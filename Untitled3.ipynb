{
 "cells": [
  {
   "cell_type": "code",
   "execution_count": 1,
   "id": "574f38d7",
   "metadata": {},
   "outputs": [],
   "source": [
    "# GENERATE RANDOM NUMBER BETWEEN 14 AND 70 TOTAL OF 100"
   ]
  },
  {
   "cell_type": "code",
   "execution_count": 33,
   "id": "5f499939",
   "metadata": {},
   "outputs": [
    {
     "name": "stdout",
     "output_type": "stream",
     "text": [
      "[22, 22, 61, 24, 20, 65, 40, 11, 32, 48, 41, 15, 49, 24, 43, 17, 47, 32, 34, 48, 28, 56, 42, 40, 50, 60, 47, 47, 32, 56, 58, 42, 45, 34, 55, 19, 51, 30, 21, 13, 64, 47, 69, 29, 31, 45, 44, 23, 45, 56, 51, 33, 35, 27, 25, 49, 42, 67, 11, 46, 56, 27, 40, 48, 53, 23, 24, 43, 40, 60, 37, 20, 59, 62, 58, 65, 14, 49, 51, 15, 46, 13, 19, 41, 47, 51, 62, 32, 24, 54, 57, 27, 18, 56, 64, 41, 68, 12, 17, 54]\n"
     ]
    }
   ],
   "source": [
    "import random\n",
    "numbers = []\n",
    "counter = 1\n",
    "while counter <= 100:\n",
    "    num = random.randint(11,70)\n",
    "    numbers.append(num)\n",
    "    counter +=1\n",
    "print(numbers)\n"
   ]
  },
  {
   "cell_type": "code",
   "execution_count": 34,
   "id": "e571f107",
   "metadata": {},
   "outputs": [
    {
     "name": "stdout",
     "output_type": "stream",
     "text": [
      "[22, 22, 61, 24, 20, 65, 40, 11, 32, 48, 41, 15, 49, 24, 43, 17, 47, 32, 34, 48, 28, 56, 42, 40, 50, 60, 47, 47, 32, 56, 58, 42, 45, 34, 55, 19, 51, 30, 21, 13, 64, 47, 69, 29, 31, 45, 44, 23, 45, 56, 51, 33, 35, 27, 25, 49, 42, 67, 11, 46, 56, 27, 40, 48, 53, 23, 24, 43, 40, 60, 37, 20, 59, 62, 58, 65, 14, 49, 51, 15, 46, 13, 19, 41, 47, 51, 62, 32, 24, 54, 57, 27, 18, 56, 64, 41, 68, 12, 17, 54]\n"
     ]
    }
   ],
   "source": [
    "sqrtnum =list(map(lambda x:(x**0.5),numbers))\n",
    "print(numbers)"
   ]
  },
  {
   "cell_type": "code",
   "execution_count": 11,
   "id": "b764dc9c",
   "metadata": {},
   "outputs": [
    {
     "name": "stdout",
     "output_type": "stream",
     "text": [
      "[1.4142135623730951, 2.23606797749979, 2.449489742783178, 2.6457513110645907, 2.8284271247461903, 3.0]\n"
     ]
    }
   ],
   "source": [
    "list1 = [2, 5, 6, 7, 8, 9]\n",
    "sqrt =list(map(lambda x: (x**0.5), list1))\n",
    "print(sqrt)"
   ]
  },
  {
   "cell_type": "code",
   "execution_count": 16,
   "id": "84959b03",
   "metadata": {},
   "outputs": [
    {
     "data": {
      "text/plain": [
       "6"
      ]
     },
     "execution_count": 16,
     "metadata": {},
     "output_type": "execute_result"
    }
   ],
   "source": [
    "lambda x: x*2\n",
    "(lambda x: x*2)(3)"
   ]
  },
  {
   "cell_type": "code",
   "execution_count": 9,
   "id": "eef22e8e",
   "metadata": {},
   "outputs": [
    {
     "name": "stdout",
     "output_type": "stream",
     "text": [
      "[2, 4, 6]\n"
     ]
    }
   ],
   "source": [
    "list1 = [1,2,3,4,5,6,7]\n",
    "even_list =list(filter(lambda x:(x%2 == 0),list1))\n",
    "print(even_list)"
   ]
  },
  {
   "cell_type": "code",
   "execution_count": 8,
   "id": "0aaf9689",
   "metadata": {},
   "outputs": [
    {
     "name": "stdout",
     "output_type": "stream",
     "text": [
      "[3, 123]\n"
     ]
    }
   ],
   "source": [
    "LIST = [1,2,3,4,10,123,22]\n",
    "Oddlist = list(filter(lambda x:(x%3 == 0),LIST))\n",
    "print(Oddlist)"
   ]
  },
  {
   "cell_type": "code",
   "execution_count": null,
   "id": "1d3b4b6a",
   "metadata": {},
   "outputs": [],
   "source": [
    "evenlist =list(filter(lambda x: (x%2 ==0),LIST))"
   ]
  }
 ],
 "metadata": {
  "kernelspec": {
   "display_name": "Python 3 (ipykernel)",
   "language": "python",
   "name": "python3"
  },
  "language_info": {
   "codemirror_mode": {
    "name": "ipython",
    "version": 3
   },
   "file_extension": ".py",
   "mimetype": "text/x-python",
   "name": "python",
   "nbconvert_exporter": "python",
   "pygments_lexer": "ipython3",
   "version": "3.9.12"
  }
 },
 "nbformat": 4,
 "nbformat_minor": 5
}
